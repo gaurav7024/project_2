{
 "cells": [
  {
   "cell_type": "code",
   "execution_count": 67,
   "metadata": {},
   "outputs": [],
   "source": [
    "import pandas as pd\n",
    "import numpy as np\n",
    "import seaborn as sns\n",
    "import matplotlib.pyplot as plt"
   ]
  },
  {
   "cell_type": "code",
   "execution_count": 68,
   "metadata": {},
   "outputs": [],
   "source": [
    "Traindf=pd.read_excel('Final_Train.xlsx')"
   ]
  },
  {
   "cell_type": "code",
   "execution_count": 69,
   "metadata": {},
   "outputs": [
    {
     "data": {
      "text/html": [
       "<div>\n",
       "<style scoped>\n",
       "    .dataframe tbody tr th:only-of-type {\n",
       "        vertical-align: middle;\n",
       "    }\n",
       "\n",
       "    .dataframe tbody tr th {\n",
       "        vertical-align: top;\n",
       "    }\n",
       "\n",
       "    .dataframe thead th {\n",
       "        text-align: right;\n",
       "    }\n",
       "</style>\n",
       "<table border=\"1\" class=\"dataframe\">\n",
       "  <thead>\n",
       "    <tr style=\"text-align: right;\">\n",
       "      <th></th>\n",
       "      <th>Qualification</th>\n",
       "      <th>Experience</th>\n",
       "      <th>Rating</th>\n",
       "      <th>Place</th>\n",
       "      <th>Profile</th>\n",
       "      <th>Miscellaneous_Info</th>\n",
       "      <th>Fees</th>\n",
       "    </tr>\n",
       "  </thead>\n",
       "  <tbody>\n",
       "    <tr>\n",
       "      <td>0</td>\n",
       "      <td>BHMS, MD - Homeopathy</td>\n",
       "      <td>24 years experience</td>\n",
       "      <td>100%</td>\n",
       "      <td>Kakkanad, Ernakulam</td>\n",
       "      <td>Homeopath</td>\n",
       "      <td>100% 16 Feedback Kakkanad, Ernakulam</td>\n",
       "      <td>100</td>\n",
       "    </tr>\n",
       "    <tr>\n",
       "      <td>1</td>\n",
       "      <td>BAMS, MD - Ayurveda Medicine</td>\n",
       "      <td>12 years experience</td>\n",
       "      <td>98%</td>\n",
       "      <td>Whitefield, Bangalore</td>\n",
       "      <td>Ayurveda</td>\n",
       "      <td>98% 76 Feedback Whitefield, Bangalore</td>\n",
       "      <td>350</td>\n",
       "    </tr>\n",
       "    <tr>\n",
       "      <td>2</td>\n",
       "      <td>MBBS, MS - Otorhinolaryngology</td>\n",
       "      <td>9 years experience</td>\n",
       "      <td>NaN</td>\n",
       "      <td>Mathikere - BEL, Bangalore</td>\n",
       "      <td>ENT Specialist</td>\n",
       "      <td>NaN</td>\n",
       "      <td>300</td>\n",
       "    </tr>\n",
       "    <tr>\n",
       "      <td>3</td>\n",
       "      <td>BSc - Zoology, BAMS</td>\n",
       "      <td>12 years experience</td>\n",
       "      <td>NaN</td>\n",
       "      <td>Bannerghatta Road, Bangalore</td>\n",
       "      <td>Ayurveda</td>\n",
       "      <td>Bannerghatta Road, Bangalore ₹250 Available on...</td>\n",
       "      <td>250</td>\n",
       "    </tr>\n",
       "    <tr>\n",
       "      <td>4</td>\n",
       "      <td>BAMS</td>\n",
       "      <td>20 years experience</td>\n",
       "      <td>100%</td>\n",
       "      <td>Keelkattalai, Chennai</td>\n",
       "      <td>Ayurveda</td>\n",
       "      <td>100% 4 Feedback Keelkattalai, Chennai</td>\n",
       "      <td>250</td>\n",
       "    </tr>\n",
       "    <tr>\n",
       "      <td>...</td>\n",
       "      <td>...</td>\n",
       "      <td>...</td>\n",
       "      <td>...</td>\n",
       "      <td>...</td>\n",
       "      <td>...</td>\n",
       "      <td>...</td>\n",
       "      <td>...</td>\n",
       "    </tr>\n",
       "    <tr>\n",
       "      <td>5956</td>\n",
       "      <td>MBBS, MS - ENT</td>\n",
       "      <td>19 years experience</td>\n",
       "      <td>98%</td>\n",
       "      <td>Basavanagudi, Bangalore</td>\n",
       "      <td>ENT Specialist</td>\n",
       "      <td>98% 45 Feedback Basavanagudi, Bangalore</td>\n",
       "      <td>300</td>\n",
       "    </tr>\n",
       "    <tr>\n",
       "      <td>5957</td>\n",
       "      <td>MBBS</td>\n",
       "      <td>33 years experience</td>\n",
       "      <td>NaN</td>\n",
       "      <td>Nungambakkam, Chennai</td>\n",
       "      <td>General Medicine</td>\n",
       "      <td>NaN</td>\n",
       "      <td>100</td>\n",
       "    </tr>\n",
       "    <tr>\n",
       "      <td>5958</td>\n",
       "      <td>MBBS</td>\n",
       "      <td>41 years experience</td>\n",
       "      <td>97%</td>\n",
       "      <td>Greater Kailash Part 2, Delhi</td>\n",
       "      <td>General Medicine</td>\n",
       "      <td>97% 11 Feedback Greater Kailash Part 2, Delhi</td>\n",
       "      <td>600</td>\n",
       "    </tr>\n",
       "    <tr>\n",
       "      <td>5959</td>\n",
       "      <td>MBBS, MD - General Medicine</td>\n",
       "      <td>15 years experience</td>\n",
       "      <td>90%</td>\n",
       "      <td>Vileparle West, Mumbai</td>\n",
       "      <td>General Medicine</td>\n",
       "      <td>General Medical Consultation Viral Fever Treat...</td>\n",
       "      <td>100</td>\n",
       "    </tr>\n",
       "    <tr>\n",
       "      <td>5960</td>\n",
       "      <td>BDS, MDS - Orthodontics</td>\n",
       "      <td>17 years experience</td>\n",
       "      <td>100%</td>\n",
       "      <td>Pitampura, Delhi</td>\n",
       "      <td>Dentist</td>\n",
       "      <td>Acrylic Partial Denture Crowns and Bridges Fix...</td>\n",
       "      <td>200</td>\n",
       "    </tr>\n",
       "  </tbody>\n",
       "</table>\n",
       "<p>5961 rows × 7 columns</p>\n",
       "</div>"
      ],
      "text/plain": [
       "                       Qualification           Experience Rating  \\\n",
       "0              BHMS, MD - Homeopathy  24 years experience   100%   \n",
       "1       BAMS, MD - Ayurveda Medicine  12 years experience    98%   \n",
       "2     MBBS, MS - Otorhinolaryngology   9 years experience    NaN   \n",
       "3                BSc - Zoology, BAMS  12 years experience    NaN   \n",
       "4                               BAMS  20 years experience   100%   \n",
       "...                              ...                  ...    ...   \n",
       "5956                  MBBS, MS - ENT  19 years experience    98%   \n",
       "5957                            MBBS  33 years experience    NaN   \n",
       "5958                            MBBS  41 years experience    97%   \n",
       "5959     MBBS, MD - General Medicine  15 years experience    90%   \n",
       "5960         BDS, MDS - Orthodontics  17 years experience   100%   \n",
       "\n",
       "                              Place           Profile  \\\n",
       "0               Kakkanad, Ernakulam         Homeopath   \n",
       "1             Whitefield, Bangalore          Ayurveda   \n",
       "2        Mathikere - BEL, Bangalore    ENT Specialist   \n",
       "3      Bannerghatta Road, Bangalore          Ayurveda   \n",
       "4             Keelkattalai, Chennai          Ayurveda   \n",
       "...                             ...               ...   \n",
       "5956        Basavanagudi, Bangalore    ENT Specialist   \n",
       "5957          Nungambakkam, Chennai  General Medicine   \n",
       "5958  Greater Kailash Part 2, Delhi  General Medicine   \n",
       "5959         Vileparle West, Mumbai  General Medicine   \n",
       "5960               Pitampura, Delhi           Dentist   \n",
       "\n",
       "                                     Miscellaneous_Info  Fees  \n",
       "0                  100% 16 Feedback Kakkanad, Ernakulam   100  \n",
       "1                 98% 76 Feedback Whitefield, Bangalore   350  \n",
       "2                                                   NaN   300  \n",
       "3     Bannerghatta Road, Bangalore ₹250 Available on...   250  \n",
       "4                 100% 4 Feedback Keelkattalai, Chennai   250  \n",
       "...                                                 ...   ...  \n",
       "5956            98% 45 Feedback Basavanagudi, Bangalore   300  \n",
       "5957                                                NaN   100  \n",
       "5958      97% 11 Feedback Greater Kailash Part 2, Delhi   600  \n",
       "5959  General Medical Consultation Viral Fever Treat...   100  \n",
       "5960  Acrylic Partial Denture Crowns and Bridges Fix...   200  \n",
       "\n",
       "[5961 rows x 7 columns]"
      ]
     },
     "execution_count": 69,
     "metadata": {},
     "output_type": "execute_result"
    }
   ],
   "source": [
    "Traindf"
   ]
  },
  {
   "cell_type": "code",
   "execution_count": 70,
   "metadata": {},
   "outputs": [],
   "source": [
    "Testdf=pd.read_excel('Final_Test.xlsx')"
   ]
  },
  {
   "cell_type": "code",
   "execution_count": 71,
   "metadata": {},
   "outputs": [
    {
     "data": {
      "text/html": [
       "<div>\n",
       "<style scoped>\n",
       "    .dataframe tbody tr th:only-of-type {\n",
       "        vertical-align: middle;\n",
       "    }\n",
       "\n",
       "    .dataframe tbody tr th {\n",
       "        vertical-align: top;\n",
       "    }\n",
       "\n",
       "    .dataframe thead th {\n",
       "        text-align: right;\n",
       "    }\n",
       "</style>\n",
       "<table border=\"1\" class=\"dataframe\">\n",
       "  <thead>\n",
       "    <tr style=\"text-align: right;\">\n",
       "      <th></th>\n",
       "      <th>Qualification</th>\n",
       "      <th>Experience</th>\n",
       "      <th>Rating</th>\n",
       "      <th>Place</th>\n",
       "      <th>Profile</th>\n",
       "      <th>Miscellaneous_Info</th>\n",
       "    </tr>\n",
       "  </thead>\n",
       "  <tbody>\n",
       "    <tr>\n",
       "      <td>0</td>\n",
       "      <td>MBBS</td>\n",
       "      <td>35 years experience</td>\n",
       "      <td>NaN</td>\n",
       "      <td>Ghatkopar East, Mumbai</td>\n",
       "      <td>General Medicine</td>\n",
       "      <td>NaN</td>\n",
       "    </tr>\n",
       "    <tr>\n",
       "      <td>1</td>\n",
       "      <td>MBBS, Diploma in Otorhinolaryngology (DLO)</td>\n",
       "      <td>31 years experience</td>\n",
       "      <td>NaN</td>\n",
       "      <td>West Marredpally, Hyderabad</td>\n",
       "      <td>ENT Specialist</td>\n",
       "      <td>NaN</td>\n",
       "    </tr>\n",
       "    <tr>\n",
       "      <td>2</td>\n",
       "      <td>MBBS, DDVL</td>\n",
       "      <td>40 years experience</td>\n",
       "      <td>70%</td>\n",
       "      <td>KK Nagar, Chennai</td>\n",
       "      <td>Dermatologists</td>\n",
       "      <td>70% 4 Feedback KK Nagar, Chennai</td>\n",
       "    </tr>\n",
       "    <tr>\n",
       "      <td>3</td>\n",
       "      <td>BAMS</td>\n",
       "      <td>0 years experience</td>\n",
       "      <td>NaN</td>\n",
       "      <td>New Ashok Nagar, Delhi</td>\n",
       "      <td>Ayurveda</td>\n",
       "      <td>NaN</td>\n",
       "    </tr>\n",
       "    <tr>\n",
       "      <td>4</td>\n",
       "      <td>BDS, MDS - Conservative Dentistry &amp; Endodontics</td>\n",
       "      <td>16 years experience</td>\n",
       "      <td>100%</td>\n",
       "      <td>Kanakpura Road, Bangalore</td>\n",
       "      <td>Dentist</td>\n",
       "      <td>General Dentistry Conservative Dentistry Cosme...</td>\n",
       "    </tr>\n",
       "    <tr>\n",
       "      <td>...</td>\n",
       "      <td>...</td>\n",
       "      <td>...</td>\n",
       "      <td>...</td>\n",
       "      <td>...</td>\n",
       "      <td>...</td>\n",
       "      <td>...</td>\n",
       "    </tr>\n",
       "    <tr>\n",
       "      <td>1982</td>\n",
       "      <td>BAMS, Doctor of Medicine</td>\n",
       "      <td>10 years experience</td>\n",
       "      <td>NaN</td>\n",
       "      <td>Basavanagudi, Bangalore</td>\n",
       "      <td>Ayurveda</td>\n",
       "      <td>NaN</td>\n",
       "    </tr>\n",
       "    <tr>\n",
       "      <td>1983</td>\n",
       "      <td>MD - Dermatology , Venereology &amp; Leprosy, MBBS</td>\n",
       "      <td>4 years experience</td>\n",
       "      <td>NaN</td>\n",
       "      <td>Choolai, Chennai</td>\n",
       "      <td>Dermatologists</td>\n",
       "      <td>NaN</td>\n",
       "    </tr>\n",
       "    <tr>\n",
       "      <td>1984</td>\n",
       "      <td>MBBS, MD / MS - Obstetrics &amp; Gynaecology</td>\n",
       "      <td>9 years experience</td>\n",
       "      <td>NaN</td>\n",
       "      <td>Porur, Chennai</td>\n",
       "      <td>General Medicine</td>\n",
       "      <td>NaN</td>\n",
       "    </tr>\n",
       "    <tr>\n",
       "      <td>1985</td>\n",
       "      <td>BDS</td>\n",
       "      <td>12 years experience</td>\n",
       "      <td>98%</td>\n",
       "      <td>Arekere, Bangalore</td>\n",
       "      <td>Dentist</td>\n",
       "      <td>RCT - Root Canal Treatment Root Canal Treatmen...</td>\n",
       "    </tr>\n",
       "    <tr>\n",
       "      <td>1986</td>\n",
       "      <td>MBBS, MD - Dermatology , Venereology &amp; Leprosy</td>\n",
       "      <td>8 years experience</td>\n",
       "      <td>NaN</td>\n",
       "      <td>Pallikaranai, Chennai</td>\n",
       "      <td>Dermatologists</td>\n",
       "      <td>1 Feedback Pallikaranai, Chennai ₹500</td>\n",
       "    </tr>\n",
       "  </tbody>\n",
       "</table>\n",
       "<p>1987 rows × 6 columns</p>\n",
       "</div>"
      ],
      "text/plain": [
       "                                        Qualification           Experience  \\\n",
       "0                                                MBBS  35 years experience   \n",
       "1          MBBS, Diploma in Otorhinolaryngology (DLO)  31 years experience   \n",
       "2                                          MBBS, DDVL  40 years experience   \n",
       "3                                                BAMS   0 years experience   \n",
       "4     BDS, MDS - Conservative Dentistry & Endodontics  16 years experience   \n",
       "...                                               ...                  ...   \n",
       "1982                         BAMS, Doctor of Medicine  10 years experience   \n",
       "1983   MD - Dermatology , Venereology & Leprosy, MBBS   4 years experience   \n",
       "1984         MBBS, MD / MS - Obstetrics & Gynaecology   9 years experience   \n",
       "1985                                              BDS  12 years experience   \n",
       "1986   MBBS, MD - Dermatology , Venereology & Leprosy   8 years experience   \n",
       "\n",
       "     Rating                        Place           Profile  \\\n",
       "0       NaN       Ghatkopar East, Mumbai  General Medicine   \n",
       "1       NaN  West Marredpally, Hyderabad    ENT Specialist   \n",
       "2       70%            KK Nagar, Chennai    Dermatologists   \n",
       "3       NaN       New Ashok Nagar, Delhi          Ayurveda   \n",
       "4      100%    Kanakpura Road, Bangalore           Dentist   \n",
       "...     ...                          ...               ...   \n",
       "1982    NaN      Basavanagudi, Bangalore          Ayurveda   \n",
       "1983    NaN             Choolai, Chennai    Dermatologists   \n",
       "1984    NaN               Porur, Chennai  General Medicine   \n",
       "1985    98%           Arekere, Bangalore           Dentist   \n",
       "1986    NaN        Pallikaranai, Chennai    Dermatologists   \n",
       "\n",
       "                                     Miscellaneous_Info  \n",
       "0                                                   NaN  \n",
       "1                                                   NaN  \n",
       "2                      70% 4 Feedback KK Nagar, Chennai  \n",
       "3                                                   NaN  \n",
       "4     General Dentistry Conservative Dentistry Cosme...  \n",
       "...                                                 ...  \n",
       "1982                                                NaN  \n",
       "1983                                                NaN  \n",
       "1984                                                NaN  \n",
       "1985  RCT - Root Canal Treatment Root Canal Treatmen...  \n",
       "1986              1 Feedback Pallikaranai, Chennai ₹500  \n",
       "\n",
       "[1987 rows x 6 columns]"
      ]
     },
     "execution_count": 71,
     "metadata": {},
     "output_type": "execute_result"
    }
   ],
   "source": [
    "Testdf"
   ]
  },
  {
   "cell_type": "code",
   "execution_count": 72,
   "metadata": {},
   "outputs": [
    {
     "data": {
      "text/plain": [
       "Qualification            0\n",
       "Experience               0\n",
       "Rating                3302\n",
       "Place                   25\n",
       "Profile                  0\n",
       "Miscellaneous_Info    2620\n",
       "Fees                     0\n",
       "dtype: int64"
      ]
     },
     "execution_count": 72,
     "metadata": {},
     "output_type": "execute_result"
    }
   ],
   "source": [
    "Traindf.isnull().sum()"
   ]
  },
  {
   "cell_type": "code",
   "execution_count": 73,
   "metadata": {},
   "outputs": [
    {
     "data": {
      "text/plain": [
       "Qualification            0\n",
       "Experience               0\n",
       "Rating                1090\n",
       "Place                    6\n",
       "Profile                  0\n",
       "Miscellaneous_Info     834\n",
       "dtype: int64"
      ]
     },
     "execution_count": 73,
     "metadata": {},
     "output_type": "execute_result"
    }
   ],
   "source": [
    "Testdf.isnull().sum()"
   ]
  },
  {
   "cell_type": "code",
   "execution_count": 74,
   "metadata": {},
   "outputs": [],
   "source": [
    "Traindf['Data']='Train'\n",
    "Testdf['Data']='Test'\n",
    "Testdf['Fees']=0"
   ]
  },
  {
   "cell_type": "code",
   "execution_count": 75,
   "metadata": {},
   "outputs": [
    {
     "name": "stderr",
     "output_type": "stream",
     "text": [
      "C:\\ProgramData\\Anaconda3\\lib\\site-packages\\ipykernel_launcher.py:1: FutureWarning: Sorting because non-concatenation axis is not aligned. A future version\n",
      "of pandas will change to not sort by default.\n",
      "\n",
      "To accept the future behavior, pass 'sort=False'.\n",
      "\n",
      "To retain the current behavior and silence the warning, pass 'sort=True'.\n",
      "\n",
      "  \"\"\"Entry point for launching an IPython kernel.\n"
     ]
    },
    {
     "data": {
      "text/html": [
       "<div>\n",
       "<style scoped>\n",
       "    .dataframe tbody tr th:only-of-type {\n",
       "        vertical-align: middle;\n",
       "    }\n",
       "\n",
       "    .dataframe tbody tr th {\n",
       "        vertical-align: top;\n",
       "    }\n",
       "\n",
       "    .dataframe thead th {\n",
       "        text-align: right;\n",
       "    }\n",
       "</style>\n",
       "<table border=\"1\" class=\"dataframe\">\n",
       "  <thead>\n",
       "    <tr style=\"text-align: right;\">\n",
       "      <th></th>\n",
       "      <th>Data</th>\n",
       "      <th>Experience</th>\n",
       "      <th>Fees</th>\n",
       "      <th>Miscellaneous_Info</th>\n",
       "      <th>Place</th>\n",
       "      <th>Profile</th>\n",
       "      <th>Qualification</th>\n",
       "      <th>Rating</th>\n",
       "    </tr>\n",
       "  </thead>\n",
       "  <tbody>\n",
       "    <tr>\n",
       "      <td>0</td>\n",
       "      <td>Train</td>\n",
       "      <td>24 years experience</td>\n",
       "      <td>100</td>\n",
       "      <td>100% 16 Feedback Kakkanad, Ernakulam</td>\n",
       "      <td>Kakkanad, Ernakulam</td>\n",
       "      <td>Homeopath</td>\n",
       "      <td>BHMS, MD - Homeopathy</td>\n",
       "      <td>100%</td>\n",
       "    </tr>\n",
       "    <tr>\n",
       "      <td>1</td>\n",
       "      <td>Train</td>\n",
       "      <td>12 years experience</td>\n",
       "      <td>350</td>\n",
       "      <td>98% 76 Feedback Whitefield, Bangalore</td>\n",
       "      <td>Whitefield, Bangalore</td>\n",
       "      <td>Ayurveda</td>\n",
       "      <td>BAMS, MD - Ayurveda Medicine</td>\n",
       "      <td>98%</td>\n",
       "    </tr>\n",
       "    <tr>\n",
       "      <td>2</td>\n",
       "      <td>Train</td>\n",
       "      <td>9 years experience</td>\n",
       "      <td>300</td>\n",
       "      <td>NaN</td>\n",
       "      <td>Mathikere - BEL, Bangalore</td>\n",
       "      <td>ENT Specialist</td>\n",
       "      <td>MBBS, MS - Otorhinolaryngology</td>\n",
       "      <td>NaN</td>\n",
       "    </tr>\n",
       "    <tr>\n",
       "      <td>3</td>\n",
       "      <td>Train</td>\n",
       "      <td>12 years experience</td>\n",
       "      <td>250</td>\n",
       "      <td>Bannerghatta Road, Bangalore ₹250 Available on...</td>\n",
       "      <td>Bannerghatta Road, Bangalore</td>\n",
       "      <td>Ayurveda</td>\n",
       "      <td>BSc - Zoology, BAMS</td>\n",
       "      <td>NaN</td>\n",
       "    </tr>\n",
       "    <tr>\n",
       "      <td>4</td>\n",
       "      <td>Train</td>\n",
       "      <td>20 years experience</td>\n",
       "      <td>250</td>\n",
       "      <td>100% 4 Feedback Keelkattalai, Chennai</td>\n",
       "      <td>Keelkattalai, Chennai</td>\n",
       "      <td>Ayurveda</td>\n",
       "      <td>BAMS</td>\n",
       "      <td>100%</td>\n",
       "    </tr>\n",
       "  </tbody>\n",
       "</table>\n",
       "</div>"
      ],
      "text/plain": [
       "    Data           Experience  Fees  \\\n",
       "0  Train  24 years experience   100   \n",
       "1  Train  12 years experience   350   \n",
       "2  Train   9 years experience   300   \n",
       "3  Train  12 years experience   250   \n",
       "4  Train  20 years experience   250   \n",
       "\n",
       "                                  Miscellaneous_Info  \\\n",
       "0               100% 16 Feedback Kakkanad, Ernakulam   \n",
       "1              98% 76 Feedback Whitefield, Bangalore   \n",
       "2                                                NaN   \n",
       "3  Bannerghatta Road, Bangalore ₹250 Available on...   \n",
       "4              100% 4 Feedback Keelkattalai, Chennai   \n",
       "\n",
       "                          Place         Profile  \\\n",
       "0           Kakkanad, Ernakulam       Homeopath   \n",
       "1         Whitefield, Bangalore        Ayurveda   \n",
       "2    Mathikere - BEL, Bangalore  ENT Specialist   \n",
       "3  Bannerghatta Road, Bangalore        Ayurveda   \n",
       "4         Keelkattalai, Chennai        Ayurveda   \n",
       "\n",
       "                    Qualification Rating  \n",
       "0           BHMS, MD - Homeopathy   100%  \n",
       "1    BAMS, MD - Ayurveda Medicine    98%  \n",
       "2  MBBS, MS - Otorhinolaryngology    NaN  \n",
       "3             BSc - Zoology, BAMS    NaN  \n",
       "4                            BAMS   100%  "
      ]
     },
     "execution_count": 75,
     "metadata": {},
     "output_type": "execute_result"
    }
   ],
   "source": [
    "df=pd.concat([Traindf,Testdf])\n",
    "df.head()"
   ]
  },
  {
   "cell_type": "code",
   "execution_count": 76,
   "metadata": {},
   "outputs": [
    {
     "name": "stdout",
     "output_type": "stream",
     "text": [
      "<class 'pandas.core.frame.DataFrame'>\n",
      "Int64Index: 7948 entries, 0 to 1986\n",
      "Data columns (total 8 columns):\n",
      "Data                  7948 non-null object\n",
      "Experience            7948 non-null object\n",
      "Fees                  7948 non-null int64\n",
      "Miscellaneous_Info    4494 non-null object\n",
      "Place                 7917 non-null object\n",
      "Profile               7948 non-null object\n",
      "Qualification         7948 non-null object\n",
      "Rating                3556 non-null object\n",
      "dtypes: int64(1), object(7)\n",
      "memory usage: 558.8+ KB\n"
     ]
    }
   ],
   "source": [
    "df.info()"
   ]
  },
  {
   "cell_type": "code",
   "execution_count": 77,
   "metadata": {},
   "outputs": [
    {
     "data": {
      "text/plain": [
       "Data                     0\n",
       "Experience               0\n",
       "Fees                     0\n",
       "Miscellaneous_Info    3454\n",
       "Place                   31\n",
       "Profile                  0\n",
       "Qualification            0\n",
       "Rating                4392\n",
       "dtype: int64"
      ]
     },
     "execution_count": 77,
     "metadata": {},
     "output_type": "execute_result"
    }
   ],
   "source": [
    "df.isnull().sum()"
   ]
  },
  {
   "cell_type": "code",
   "execution_count": 78,
   "metadata": {},
   "outputs": [],
   "source": [
    "df['Experience']=df['Experience'].str.split(' ').str[0]\n",
    "df['Experience']=df['Experience'].astype(int)"
   ]
  },
  {
   "cell_type": "code",
   "execution_count": 79,
   "metadata": {},
   "outputs": [],
   "source": [
    "df[\"Place\"].fillna(\"Unknown,Unknown\",inplace=True)\n",
    "df[\"Place\"] = df[\"Place\"].str.split(\",\")\n",
    "df[\"City\"] = df[\"Place\"].str[-1]\n",
    "df[\"Place\"] = df[\"Place\"].str[0]"
   ]
  },
  {
   "cell_type": "code",
   "execution_count": 80,
   "metadata": {},
   "outputs": [],
   "source": [
    "from sklearn.preprocessing import LabelEncoder"
   ]
  },
  {
   "cell_type": "code",
   "execution_count": 81,
   "metadata": {},
   "outputs": [],
   "source": [
    "le=LabelEncoder()\n",
    "df['City']=le.fit_transform(df['City'])\n",
    "df['Place']=le.fit_transform(df['Place'])"
   ]
  },
  {
   "cell_type": "code",
   "execution_count": 82,
   "metadata": {},
   "outputs": [
    {
     "name": "stdout",
     "output_type": "stream",
     "text": [
      "<class 'pandas.core.frame.DataFrame'>\n",
      "Int64Index: 7948 entries, 0 to 1986\n",
      "Data columns (total 9 columns):\n",
      "Data                  7948 non-null object\n",
      "Experience            7948 non-null int32\n",
      "Fees                  7948 non-null int64\n",
      "Miscellaneous_Info    4494 non-null object\n",
      "Place                 7948 non-null int32\n",
      "Profile               7948 non-null object\n",
      "Qualification         7948 non-null object\n",
      "Rating                3556 non-null object\n",
      "City                  7948 non-null int32\n",
      "dtypes: int32(3), int64(1), object(5)\n",
      "memory usage: 527.8+ KB\n"
     ]
    }
   ],
   "source": [
    "df.info()"
   ]
  },
  {
   "cell_type": "code",
   "execution_count": 83,
   "metadata": {},
   "outputs": [
    {
     "data": {
      "text/plain": [
       "Dentist             1838\n",
       "General Medicine    1617\n",
       "Dermatologists      1373\n",
       "Homeopath           1120\n",
       "Ayurveda            1037\n",
       "ENT Specialist       963\n",
       "Name: Profile, dtype: int64"
      ]
     },
     "execution_count": 83,
     "metadata": {},
     "output_type": "execute_result"
    }
   ],
   "source": [
    "df['Profile'].value_counts()"
   ]
  },
  {
   "cell_type": "code",
   "execution_count": 84,
   "metadata": {},
   "outputs": [],
   "source": [
    "df['Profile']=le.fit_transform(df['Profile'])"
   ]
  },
  {
   "cell_type": "code",
   "execution_count": 85,
   "metadata": {},
   "outputs": [
    {
     "data": {
      "text/plain": [
       "array(['100%', '98%', nan, '99%', '79%', '95%', '97%', '94%', '88%',\n",
       "       '90%', '80%', '93%', '36%', '78%', '87%', '96%', '82%', '89%',\n",
       "       '74%', '86%', '92%', '83%', '76%', '85%', '56%', '91%', '68%',\n",
       "       '60%', '75%', '69%', '73%', '67%', '77%', '33%', '55%', '71%',\n",
       "       '84%', '45%', '63%', '72%', '81%', '62%', '57%', '7%', '48%',\n",
       "       '40%', '70%', '64%', '65%', '47%', '58%', '53%', '52%'],\n",
       "      dtype=object)"
      ]
     },
     "execution_count": 85,
     "metadata": {},
     "output_type": "execute_result"
    }
   ],
   "source": [
    "df['Rating'].unique()"
   ]
  },
  {
   "cell_type": "code",
   "execution_count": 86,
   "metadata": {},
   "outputs": [],
   "source": [
    "df['Rating']=df['Rating'].str.split('%').str[0]\n",
    "\n",
    "df['Rating'].fillna('0',inplace=True)\n",
    "\n",
    "df['Rating']=df['Rating'].astype(int)"
   ]
  },
  {
   "cell_type": "code",
   "execution_count": 87,
   "metadata": {},
   "outputs": [
    {
     "data": {
      "text/plain": [
       "1801"
      ]
     },
     "execution_count": 87,
     "metadata": {},
     "output_type": "execute_result"
    }
   ],
   "source": [
    "df['Qualification'].nunique()"
   ]
  },
  {
   "cell_type": "code",
   "execution_count": 88,
   "metadata": {},
   "outputs": [
    {
     "data": {
      "text/plain": [
       "BDS                                                                                                     632\n",
       "BHMS                                                                                                    627\n",
       "BAMS                                                                                                    624\n",
       "MBBS                                                                                                    441\n",
       "MBBS, MS - ENT                                                                                          280\n",
       "                                                                                                       ... \n",
       "MBBS, MD - Internal Medicine, Post Graduate Diploma in Diabetology (PGDD), Fellowship in Diabetology      1\n",
       "DM - Neurology, MBBS                                                                                      1\n",
       "MDS - Prosthodontics, FICOI, BDS                                                                          1\n",
       "DDVL, Diploma in Health Administration, MD - Dermatology, MBBS                                            1\n",
       "MBBS, MS - ENT, FRCS, MRCS (UK), Dip Otolaryngology and Head and neck Surgery                             1\n",
       "Name: Qualification, Length: 1801, dtype: int64"
      ]
     },
     "execution_count": 88,
     "metadata": {},
     "output_type": "execute_result"
    }
   ],
   "source": [
    "df['Qualification'].value_counts()"
   ]
  },
  {
   "cell_type": "code",
   "execution_count": 89,
   "metadata": {},
   "outputs": [],
   "source": [
    "df['Qual_1']=df['Qualification'].str.split(',').str[0]"
   ]
  },
  {
   "cell_type": "code",
   "execution_count": 90,
   "metadata": {},
   "outputs": [],
   "source": [
    "def rep(x):\n",
    "    if x=='0':\n",
    "        x=0\n",
    "    else:\n",
    "        x=1\n",
    "        return x"
   ]
  },
  {
   "cell_type": "code",
   "execution_count": 91,
   "metadata": {},
   "outputs": [],
   "source": [
    "df['Qual_1']= df['Qual_1'].apply(lambda x:rep(x))"
   ]
  },
  {
   "cell_type": "code",
   "execution_count": 92,
   "metadata": {},
   "outputs": [],
   "source": [
    "df['Qual_2']=df['Qualification'].str.split(',').str[1]"
   ]
  },
  {
   "cell_type": "code",
   "execution_count": 93,
   "metadata": {},
   "outputs": [
    {
     "data": {
      "text/plain": [
       "2571"
      ]
     },
     "execution_count": 93,
     "metadata": {},
     "output_type": "execute_result"
    }
   ],
   "source": [
    "df['Qual_2'].fillna('0',inplace=True)\n",
    "\n",
    "df['Qual_2']= df['Qual_2'].apply(lambda x:rep(x))\n",
    "\n",
    "df['Qual_2'].isnull().sum()"
   ]
  },
  {
   "cell_type": "code",
   "execution_count": 94,
   "metadata": {},
   "outputs": [
    {
     "data": {
      "text/plain": [
       "array([1., 0.])"
      ]
     },
     "execution_count": 94,
     "metadata": {},
     "output_type": "execute_result"
    }
   ],
   "source": [
    "df['Qual_2'].fillna(0,inplace=True)\n",
    "\n",
    "df['Qual_2'].unique()"
   ]
  },
  {
   "cell_type": "code",
   "execution_count": 95,
   "metadata": {},
   "outputs": [],
   "source": [
    "df['Qual_2']=df['Qual_2'].astype(int)"
   ]
  },
  {
   "cell_type": "code",
   "execution_count": 96,
   "metadata": {},
   "outputs": [
    {
     "data": {
      "text/plain": [
       "6088"
      ]
     },
     "execution_count": 96,
     "metadata": {},
     "output_type": "execute_result"
    }
   ],
   "source": [
    "df['Qual_3']=df['Qualification'].str.split(',').str[2]\n",
    "\n",
    "df['Qual_3'].fillna('0',inplace=True)\n",
    "\n",
    "df['Qual_3']= df['Qual_3'].apply(lambda x:rep(x))\n",
    "\n",
    "df['Qual_3'].isnull().sum()"
   ]
  },
  {
   "cell_type": "code",
   "execution_count": 97,
   "metadata": {},
   "outputs": [
    {
     "data": {
      "text/plain": [
       "array([0., 1.])"
      ]
     },
     "execution_count": 97,
     "metadata": {},
     "output_type": "execute_result"
    }
   ],
   "source": [
    "df['Qual_3'].fillna(0,inplace=True)\n",
    "df['Qual_3'].unique()"
   ]
  },
  {
   "cell_type": "code",
   "execution_count": 98,
   "metadata": {},
   "outputs": [],
   "source": [
    "df['Qual_3']=df['Qual_3'].astype(int)"
   ]
  },
  {
   "cell_type": "code",
   "execution_count": 99,
   "metadata": {},
   "outputs": [],
   "source": [
    "df.drop(['Qualification'],axis=1,inplace=True)"
   ]
  },
  {
   "cell_type": "code",
   "execution_count": 100,
   "metadata": {},
   "outputs": [
    {
     "data": {
      "text/plain": [
       "3980"
      ]
     },
     "execution_count": 100,
     "metadata": {},
     "output_type": "execute_result"
    }
   ],
   "source": [
    "df['Miscellaneous_Info'].nunique()"
   ]
  },
  {
   "cell_type": "code",
   "execution_count": 101,
   "metadata": {},
   "outputs": [
    {
     "data": {
      "text/plain": [
       "Missing                                                                3454\n",
       "Acrylic Partial Denture Crowns and Bridges Fixing Artificial Teeth       50\n",
       "Skin Allergy Treatment Skin Allergies Dermabrasion                       18\n",
       "Tooth Extraction Dental Fillings Scaling / Polishing                     16\n",
       "Dental Fillings Zirconia Crowns Dental Implant Fixing                    15\n",
       "                                                                       ... \n",
       "100% 8 Feedback Lajpat Nagar III, Delhi                                   1\n",
       "85% 23 Feedback Kondapur, Hyderabad                                       1\n",
       "Complete/Partial Dentures Fixing Flap Surgery Dental Implant Fixing       1\n",
       "92% 2 Feedback Subzi Mandi, Delhi                                         1\n",
       "96% 20 Feedback Jubilee Hills, Hyderabad                                  1\n",
       "Name: Miscellaneous_Info, Length: 3981, dtype: int64"
      ]
     },
     "execution_count": 101,
     "metadata": {},
     "output_type": "execute_result"
    }
   ],
   "source": [
    "df['Miscellaneous_Info'].fillna('Missing',inplace=True)\n",
    "df['Miscellaneous_Info'].value_counts()"
   ]
  },
  {
   "cell_type": "code",
   "execution_count": 102,
   "metadata": {},
   "outputs": [
    {
     "data": {
      "text/html": [
       "<div>\n",
       "<style scoped>\n",
       "    .dataframe tbody tr th:only-of-type {\n",
       "        vertical-align: middle;\n",
       "    }\n",
       "\n",
       "    .dataframe tbody tr th {\n",
       "        vertical-align: top;\n",
       "    }\n",
       "\n",
       "    .dataframe thead th {\n",
       "        text-align: right;\n",
       "    }\n",
       "</style>\n",
       "<table border=\"1\" class=\"dataframe\">\n",
       "  <thead>\n",
       "    <tr style=\"text-align: right;\">\n",
       "      <th></th>\n",
       "      <th>Data</th>\n",
       "      <th>Experience</th>\n",
       "      <th>Fees</th>\n",
       "      <th>Place</th>\n",
       "      <th>Profile</th>\n",
       "      <th>Rating</th>\n",
       "      <th>City</th>\n",
       "      <th>Qual_1</th>\n",
       "      <th>Qual_2</th>\n",
       "      <th>Qual_3</th>\n",
       "    </tr>\n",
       "  </thead>\n",
       "  <tbody>\n",
       "    <tr>\n",
       "      <td>0</td>\n",
       "      <td>Train</td>\n",
       "      <td>24</td>\n",
       "      <td>100</td>\n",
       "      <td>324</td>\n",
       "      <td>5</td>\n",
       "      <td>100</td>\n",
       "      <td>4</td>\n",
       "      <td>1</td>\n",
       "      <td>1</td>\n",
       "      <td>0</td>\n",
       "    </tr>\n",
       "    <tr>\n",
       "      <td>1</td>\n",
       "      <td>Train</td>\n",
       "      <td>12</td>\n",
       "      <td>350</td>\n",
       "      <td>926</td>\n",
       "      <td>0</td>\n",
       "      <td>98</td>\n",
       "      <td>0</td>\n",
       "      <td>1</td>\n",
       "      <td>1</td>\n",
       "      <td>0</td>\n",
       "    </tr>\n",
       "    <tr>\n",
       "      <td>2</td>\n",
       "      <td>Train</td>\n",
       "      <td>9</td>\n",
       "      <td>300</td>\n",
       "      <td>494</td>\n",
       "      <td>3</td>\n",
       "      <td>0</td>\n",
       "      <td>0</td>\n",
       "      <td>1</td>\n",
       "      <td>1</td>\n",
       "      <td>0</td>\n",
       "    </tr>\n",
       "    <tr>\n",
       "      <td>3</td>\n",
       "      <td>Train</td>\n",
       "      <td>12</td>\n",
       "      <td>250</td>\n",
       "      <td>74</td>\n",
       "      <td>0</td>\n",
       "      <td>0</td>\n",
       "      <td>0</td>\n",
       "      <td>1</td>\n",
       "      <td>1</td>\n",
       "      <td>0</td>\n",
       "    </tr>\n",
       "    <tr>\n",
       "      <td>4</td>\n",
       "      <td>Train</td>\n",
       "      <td>20</td>\n",
       "      <td>250</td>\n",
       "      <td>367</td>\n",
       "      <td>0</td>\n",
       "      <td>100</td>\n",
       "      <td>1</td>\n",
       "      <td>1</td>\n",
       "      <td>0</td>\n",
       "      <td>0</td>\n",
       "    </tr>\n",
       "  </tbody>\n",
       "</table>\n",
       "</div>"
      ],
      "text/plain": [
       "    Data  Experience  Fees  Place  Profile  Rating  City  Qual_1  Qual_2  \\\n",
       "0  Train          24   100    324        5     100     4       1       1   \n",
       "1  Train          12   350    926        0      98     0       1       1   \n",
       "2  Train           9   300    494        3       0     0       1       1   \n",
       "3  Train          12   250     74        0       0     0       1       1   \n",
       "4  Train          20   250    367        0     100     1       1       0   \n",
       "\n",
       "   Qual_3  \n",
       "0       0  \n",
       "1       0  \n",
       "2       0  \n",
       "3       0  \n",
       "4       0  "
      ]
     },
     "execution_count": 102,
     "metadata": {},
     "output_type": "execute_result"
    }
   ],
   "source": [
    "df.drop(['Miscellaneous_Info'],axis=1,inplace=True)\n",
    "df.head()"
   ]
  },
  {
   "cell_type": "code",
   "execution_count": 103,
   "metadata": {},
   "outputs": [],
   "source": [
    "df['Total_qual']=df.iloc[:,-3:].sum(axis=1)"
   ]
  },
  {
   "cell_type": "code",
   "execution_count": 104,
   "metadata": {},
   "outputs": [
    {
     "data": {
      "text/html": [
       "<div>\n",
       "<style scoped>\n",
       "    .dataframe tbody tr th:only-of-type {\n",
       "        vertical-align: middle;\n",
       "    }\n",
       "\n",
       "    .dataframe tbody tr th {\n",
       "        vertical-align: top;\n",
       "    }\n",
       "\n",
       "    .dataframe thead th {\n",
       "        text-align: right;\n",
       "    }\n",
       "</style>\n",
       "<table border=\"1\" class=\"dataframe\">\n",
       "  <thead>\n",
       "    <tr style=\"text-align: right;\">\n",
       "      <th></th>\n",
       "      <th>Data</th>\n",
       "      <th>Experience</th>\n",
       "      <th>Fees</th>\n",
       "      <th>Place</th>\n",
       "      <th>Profile</th>\n",
       "      <th>Rating</th>\n",
       "      <th>Qual_3</th>\n",
       "      <th>Total_qual</th>\n",
       "    </tr>\n",
       "  </thead>\n",
       "  <tbody>\n",
       "    <tr>\n",
       "      <td>0</td>\n",
       "      <td>Train</td>\n",
       "      <td>24</td>\n",
       "      <td>100</td>\n",
       "      <td>324</td>\n",
       "      <td>5</td>\n",
       "      <td>100</td>\n",
       "      <td>0</td>\n",
       "      <td>2</td>\n",
       "    </tr>\n",
       "    <tr>\n",
       "      <td>1</td>\n",
       "      <td>Train</td>\n",
       "      <td>12</td>\n",
       "      <td>350</td>\n",
       "      <td>926</td>\n",
       "      <td>0</td>\n",
       "      <td>98</td>\n",
       "      <td>0</td>\n",
       "      <td>2</td>\n",
       "    </tr>\n",
       "    <tr>\n",
       "      <td>2</td>\n",
       "      <td>Train</td>\n",
       "      <td>9</td>\n",
       "      <td>300</td>\n",
       "      <td>494</td>\n",
       "      <td>3</td>\n",
       "      <td>0</td>\n",
       "      <td>0</td>\n",
       "      <td>2</td>\n",
       "    </tr>\n",
       "    <tr>\n",
       "      <td>3</td>\n",
       "      <td>Train</td>\n",
       "      <td>12</td>\n",
       "      <td>250</td>\n",
       "      <td>74</td>\n",
       "      <td>0</td>\n",
       "      <td>0</td>\n",
       "      <td>0</td>\n",
       "      <td>2</td>\n",
       "    </tr>\n",
       "    <tr>\n",
       "      <td>4</td>\n",
       "      <td>Train</td>\n",
       "      <td>20</td>\n",
       "      <td>250</td>\n",
       "      <td>367</td>\n",
       "      <td>0</td>\n",
       "      <td>100</td>\n",
       "      <td>0</td>\n",
       "      <td>1</td>\n",
       "    </tr>\n",
       "  </tbody>\n",
       "</table>\n",
       "</div>"
      ],
      "text/plain": [
       "    Data  Experience  Fees  Place  Profile  Rating  Qual_3  Total_qual\n",
       "0  Train          24   100    324        5     100       0           2\n",
       "1  Train          12   350    926        0      98       0           2\n",
       "2  Train           9   300    494        3       0       0           2\n",
       "3  Train          12   250     74        0       0       0           2\n",
       "4  Train          20   250    367        0     100       0           1"
      ]
     },
     "execution_count": 104,
     "metadata": {},
     "output_type": "execute_result"
    }
   ],
   "source": [
    "df.drop(df.columns[[6,7,8]], axis = 1, inplace = True)\n",
    "df.head()"
   ]
  },
  {
   "cell_type": "code",
   "execution_count": 105,
   "metadata": {},
   "outputs": [
    {
     "name": "stdout",
     "output_type": "stream",
     "text": [
      "<class 'pandas.core.frame.DataFrame'>\n",
      "Int64Index: 7948 entries, 0 to 1986\n",
      "Data columns (total 8 columns):\n",
      "Data          7948 non-null object\n",
      "Experience    7948 non-null int32\n",
      "Fees          7948 non-null int64\n",
      "Place         7948 non-null int32\n",
      "Profile       7948 non-null int32\n",
      "Rating        7948 non-null int32\n",
      "Qual_3        7948 non-null int32\n",
      "Total_qual    7948 non-null int64\n",
      "dtypes: int32(5), int64(2), object(1)\n",
      "memory usage: 403.6+ KB\n"
     ]
    }
   ],
   "source": [
    "df.info()"
   ]
  },
  {
   "cell_type": "code",
   "execution_count": 106,
   "metadata": {},
   "outputs": [],
   "source": [
    "Trainfinal=df.loc[df['Data']=='Train']\n",
    "Testfinal=df.loc[df['Data']=='Test']"
   ]
  },
  {
   "cell_type": "code",
   "execution_count": 107,
   "metadata": {},
   "outputs": [
    {
     "name": "stderr",
     "output_type": "stream",
     "text": [
      "C:\\ProgramData\\Anaconda3\\lib\\site-packages\\pandas\\core\\frame.py:4102: SettingWithCopyWarning: \n",
      "A value is trying to be set on a copy of a slice from a DataFrame\n",
      "\n",
      "See the caveats in the documentation: http://pandas.pydata.org/pandas-docs/stable/user_guide/indexing.html#returning-a-view-versus-a-copy\n",
      "  errors=errors,\n"
     ]
    }
   ],
   "source": [
    "Trainfinal.drop(['Data'],axis=1,inplace=True)\n",
    "Testfinal.drop(['Data'],axis=1,inplace=True)"
   ]
  },
  {
   "cell_type": "code",
   "execution_count": 108,
   "metadata": {},
   "outputs": [
    {
     "data": {
      "text/plain": [
       "<matplotlib.axes._subplots.AxesSubplot at 0x2a3f4cbf608>"
      ]
     },
     "execution_count": 108,
     "metadata": {},
     "output_type": "execute_result"
    },
    {
     "data": {
      "image/png": "[encoded data removed]",
      "text/plain": [
       "<Figure size 432x288 with 1 Axes>"
      ]
     },
     "metadata": {
      "needs_background": "light"
     },
     "output_type": "display_data"
    }
   ],
   "source": [
    "sns.distplot(Trainfinal['Fees'])"
   ]
  },
  {
   "cell_type": "code",
   "execution_count": 109,
   "metadata": {},
   "outputs": [
    {
     "data": {
      "text/plain": [
       "<matplotlib.axes._subplots.AxesSubplot at 0x2a3f535e9c8>"
      ]
     },
     "execution_count": 109,
     "metadata": {},
     "output_type": "execute_result"
    },
    {
     "data": {
      "image/png": "[encoded data removed]",
      "text/plain": [
       "<Figure size 432x288 with 1 Axes>"
      ]
     },
     "metadata": {
      "needs_background": "light"
     },
     "output_type": "display_data"
    }
   ],
   "source": [
    "sns.boxplot(Trainfinal['Fees'])"
   ]
  },
  {
   "cell_type": "code",
   "execution_count": 110,
   "metadata": {},
   "outputs": [
    {
     "data": {
      "text/html": [
       "<div>\n",
       "<style scoped>\n",
       "    .dataframe tbody tr th:only-of-type {\n",
       "        vertical-align: middle;\n",
       "    }\n",
       "\n",
       "    .dataframe tbody tr th {\n",
       "        vertical-align: top;\n",
       "    }\n",
       "\n",
       "    .dataframe thead th {\n",
       "        text-align: right;\n",
       "    }\n",
       "</style>\n",
       "<table border=\"1\" class=\"dataframe\">\n",
       "  <thead>\n",
       "    <tr style=\"text-align: right;\">\n",
       "      <th></th>\n",
       "      <th>Experience</th>\n",
       "      <th>Place</th>\n",
       "      <th>Profile</th>\n",
       "      <th>Rating</th>\n",
       "      <th>Qual_3</th>\n",
       "      <th>Total_qual</th>\n",
       "    </tr>\n",
       "  </thead>\n",
       "  <tbody>\n",
       "    <tr>\n",
       "      <td>0</td>\n",
       "      <td>24</td>\n",
       "      <td>324</td>\n",
       "      <td>5</td>\n",
       "      <td>100</td>\n",
       "      <td>0</td>\n",
       "      <td>2</td>\n",
       "    </tr>\n",
       "    <tr>\n",
       "      <td>1</td>\n",
       "      <td>12</td>\n",
       "      <td>926</td>\n",
       "      <td>0</td>\n",
       "      <td>98</td>\n",
       "      <td>0</td>\n",
       "      <td>2</td>\n",
       "    </tr>\n",
       "    <tr>\n",
       "      <td>2</td>\n",
       "      <td>9</td>\n",
       "      <td>494</td>\n",
       "      <td>3</td>\n",
       "      <td>0</td>\n",
       "      <td>0</td>\n",
       "      <td>2</td>\n",
       "    </tr>\n",
       "    <tr>\n",
       "      <td>3</td>\n",
       "      <td>12</td>\n",
       "      <td>74</td>\n",
       "      <td>0</td>\n",
       "      <td>0</td>\n",
       "      <td>0</td>\n",
       "      <td>2</td>\n",
       "    </tr>\n",
       "    <tr>\n",
       "      <td>4</td>\n",
       "      <td>20</td>\n",
       "      <td>367</td>\n",
       "      <td>0</td>\n",
       "      <td>100</td>\n",
       "      <td>0</td>\n",
       "      <td>1</td>\n",
       "    </tr>\n",
       "  </tbody>\n",
       "</table>\n",
       "</div>"
      ],
      "text/plain": [
       "   Experience  Place  Profile  Rating  Qual_3  Total_qual\n",
       "0          24    324        5     100       0           2\n",
       "1          12    926        0      98       0           2\n",
       "2           9    494        3       0       0           2\n",
       "3          12     74        0       0       0           2\n",
       "4          20    367        0     100       0           1"
      ]
     },
     "execution_count": 110,
     "metadata": {},
     "output_type": "execute_result"
    }
   ],
   "source": [
    "x=Trainfinal.drop(['Fees'],axis=1)\n",
    "x.head()"
   ]
  },
  {
   "cell_type": "code",
   "execution_count": 111,
   "metadata": {},
   "outputs": [],
   "source": [
    "from sklearn.preprocessing import StandardScaler\n",
    "ss=StandardScaler()\n",
    "x=ss.fit_transform(x)"
   ]
  },
  {
   "cell_type": "code",
   "execution_count": 112,
   "metadata": {},
   "outputs": [
    {
     "data": {
      "text/plain": [
       "0    100\n",
       "1    350\n",
       "2    300\n",
       "3    250\n",
       "4    250\n",
       "Name: Fees, dtype: int64"
      ]
     },
     "execution_count": 112,
     "metadata": {},
     "output_type": "execute_result"
    }
   ],
   "source": [
    "y=Trainfinal['Fees']\n",
    "y.head()"
   ]
  },
  {
   "cell_type": "code",
   "execution_count": 113,
   "metadata": {},
   "outputs": [],
   "source": [
    "from sklearn.model_selection import train_test_split,cross_val_score\n",
    "from sklearn.linear_model import LinearRegression,Lasso,Ridge,ElasticNet\n",
    "from sklearn.tree import DecisionTreeRegressor\n",
    "from sklearn.neighbors import KNeighborsRegressor\n",
    "from sklearn.svm import SVR\n",
    "from sklearn.ensemble import RandomForestRegressor,AdaBoostRegressor,GradientBoostingRegressor\n",
    "from xgboost import XGBRegressor\n",
    "from sklearn.metrics import r2_score,mean_squared_error"
   ]
  },
  {
   "cell_type": "code",
   "execution_count": 114,
   "metadata": {},
   "outputs": [],
   "source": [
    "x_train,x_test,y_train,y_test=train_test_split(x,y,test_size=0.3,random_state=97)"
   ]
  },
  {
   "cell_type": "code",
   "execution_count": 115,
   "metadata": {},
   "outputs": [
    {
     "name": "stdout",
     "output_type": "stream",
     "text": [
      "(4172, 6) (1789, 6)\n"
     ]
    }
   ],
   "source": [
    "print(x_train.shape,x_test.shape)"
   ]
  },
  {
   "cell_type": "code",
   "execution_count": 116,
   "metadata": {},
   "outputs": [
    {
     "name": "stdout",
     "output_type": "stream",
     "text": [
      "(4172,) (1789,)\n"
     ]
    }
   ],
   "source": [
    "print(y_train.shape,y_test.shape)"
   ]
  },
  {
   "cell_type": "code",
   "execution_count": 117,
   "metadata": {},
   "outputs": [],
   "source": [
    "LR=LinearRegression()\n",
    "LA=Lasso()\n",
    "RI=Ridge()\n",
    "EN=ElasticNet()\n",
    "KNR=KNeighborsRegressor()\n",
    "SV=SVR()\n",
    "DTR=DecisionTreeRegressor(random_state=97)\n",
    "ABR=AdaBoostRegressor(random_state=97)\n",
    "RFR=RandomForestRegressor(random_state=97)\n",
    "GBR=GradientBoostingRegressor(random_state=97)\n",
    "XGR=XGBRegressor(random_state=97)\n",
    "models=[]\n",
    "models.append(('LinearRegression',LR))\n",
    "models.append(('Lasso',LA))\n",
    "models.append(('Ridge',RI))\n",
    "models.append(('ElasticNet',EN))\n",
    "models.append(('DecisionTreeRegressor',DTR))\n",
    "models.append(('SVR',SV))\n",
    "models.append(('KNeighborsRegressor',KNR))\n",
    "models.append(('AdaBoostRegressor',ABR))\n",
    "models.append(('RandomForestRegressor',RFR))\n",
    "models.append(('GradientBoostingRegressor',GBR))\n",
    "models.append(('XGBRegressor',XGR))"
   ]
  },
  {
   "cell_type": "code",
   "execution_count": 118,
   "metadata": {},
   "outputs": [
    {
     "name": "stdout",
     "output_type": "stream",
     "text": [
      "************* LinearRegression *************\n",
      "\n",
      " LinearRegression(copy_X=True, fit_intercept=True, n_jobs=None, normalize=False)\n",
      "R2_score =  0.08543339154104235\n",
      "Mean_Squared_Error = 33309.24635124849\n",
      "RMSE=  182.50820899687906\n",
      "Cross_Val_Score =  0.10552463820191213\n",
      "\n",
      "\n",
      "************* Lasso *************\n",
      "\n",
      " Lasso(alpha=1.0, copy_X=True, fit_intercept=True, max_iter=1000,\n",
      "      normalize=False, positive=False, precompute=False, random_state=None,\n",
      "      selection='cyclic', tol=0.0001, warm_start=False)\n",
      "R2_score =  0.0854582670851961\n",
      "Mean_Squared_Error = 33308.340364062125\n",
      "RMSE=  182.5057269349708\n",
      "Cross_Val_Score =  0.10511378831385954\n",
      "\n",
      "\n",
      "************* Ridge *************\n",
      "\n",
      " Ridge(alpha=1.0, copy_X=True, fit_intercept=True, max_iter=None,\n",
      "      normalize=False, random_state=None, solver='auto', tol=0.001)\n",
      "R2_score =  0.08543223310134418\n",
      "Mean_Squared_Error = 33309.28854254755\n",
      "RMSE=  182.5083245842434\n",
      "Cross_Val_Score =  0.10552509070135682\n",
      "\n",
      "\n",
      "************* ElasticNet *************\n",
      "\n",
      " ElasticNet(alpha=1.0, copy_X=True, fit_intercept=True, l1_ratio=0.5,\n",
      "           max_iter=1000, normalize=False, positive=False, precompute=False,\n",
      "           random_state=None, selection='cyclic', tol=0.0001, warm_start=False)\n",
      "R2_score =  0.07396368017065136\n",
      "Mean_Squared_Error = 33726.982400302164\n",
      "RMSE=  183.64907405239526\n",
      "Cross_Val_Score =  0.08849927580574016\n",
      "\n",
      "\n",
      "************* DecisionTreeRegressor *************\n",
      "\n",
      " DecisionTreeRegressor(criterion='mse', max_depth=None, max_features=None,\n",
      "                      max_leaf_nodes=None, min_impurity_decrease=0.0,\n",
      "                      min_impurity_split=None, min_samples_leaf=1,\n",
      "                      min_samples_split=2, min_weight_fraction_leaf=0.0,\n",
      "                      presort=False, random_state=97, splitter='best')\n",
      "R2_score =  -0.5736851105892657\n",
      "Mean_Squared_Error = 57314.86864169927\n",
      "RMSE=  239.40523937812904\n",
      "Cross_Val_Score =  -0.583666933254342\n",
      "\n",
      "\n",
      "************* SVR *************\n",
      "\n",
      " SVR(C=1.0, cache_size=200, coef0=0.0, degree=3, epsilon=0.1,\n",
      "    gamma='auto_deprecated', kernel='rbf', max_iter=-1, shrinking=True,\n",
      "    tol=0.001, verbose=False)\n"
     ]
    },
    {
     "name": "stderr",
     "output_type": "stream",
     "text": [
      "C:\\ProgramData\\Anaconda3\\lib\\site-packages\\sklearn\\svm\\base.py:193: FutureWarning: The default value of gamma will change from 'auto' to 'scale' in version 0.22 to account better for unscaled features. Set gamma explicitly to 'auto' or 'scale' to avoid this warning.\n",
      "  \"avoid this warning.\", FutureWarning)\n"
     ]
    },
    {
     "name": "stdout",
     "output_type": "stream",
     "text": [
      "R2_score =  0.05037040153752548\n",
      "Mean_Squared_Error = 34586.268452248274\n",
      "RMSE=  185.9738380854906\n"
     ]
    },
    {
     "name": "stderr",
     "output_type": "stream",
     "text": [
      "C:\\ProgramData\\Anaconda3\\lib\\site-packages\\sklearn\\svm\\base.py:193: FutureWarning: The default value of gamma will change from 'auto' to 'scale' in version 0.22 to account better for unscaled features. Set gamma explicitly to 'auto' or 'scale' to avoid this warning.\n",
      "  \"avoid this warning.\", FutureWarning)\n",
      "C:\\ProgramData\\Anaconda3\\lib\\site-packages\\sklearn\\svm\\base.py:193: FutureWarning: The default value of gamma will change from 'auto' to 'scale' in version 0.22 to account better for unscaled features. Set gamma explicitly to 'auto' or 'scale' to avoid this warning.\n",
      "  \"avoid this warning.\", FutureWarning)\n",
      "C:\\ProgramData\\Anaconda3\\lib\\site-packages\\sklearn\\svm\\base.py:193: FutureWarning: The default value of gamma will change from 'auto' to 'scale' in version 0.22 to account better for unscaled features. Set gamma explicitly to 'auto' or 'scale' to avoid this warning.\n",
      "  \"avoid this warning.\", FutureWarning)\n",
      "C:\\ProgramData\\Anaconda3\\lib\\site-packages\\sklearn\\svm\\base.py:193: FutureWarning: The default value of gamma will change from 'auto' to 'scale' in version 0.22 to account better for unscaled features. Set gamma explicitly to 'auto' or 'scale' to avoid this warning.\n",
      "  \"avoid this warning.\", FutureWarning)\n",
      "C:\\ProgramData\\Anaconda3\\lib\\site-packages\\sklearn\\svm\\base.py:193: FutureWarning: The default value of gamma will change from 'auto' to 'scale' in version 0.22 to account better for unscaled features. Set gamma explicitly to 'auto' or 'scale' to avoid this warning.\n",
      "  \"avoid this warning.\", FutureWarning)\n",
      "C:\\ProgramData\\Anaconda3\\lib\\site-packages\\sklearn\\svm\\base.py:193: FutureWarning: The default value of gamma will change from 'auto' to 'scale' in version 0.22 to account better for unscaled features. Set gamma explicitly to 'auto' or 'scale' to avoid this warning.\n",
      "  \"avoid this warning.\", FutureWarning)\n",
      "C:\\ProgramData\\Anaconda3\\lib\\site-packages\\sklearn\\svm\\base.py:193: FutureWarning: The default value of gamma will change from 'auto' to 'scale' in version 0.22 to account better for unscaled features. Set gamma explicitly to 'auto' or 'scale' to avoid this warning.\n",
      "  \"avoid this warning.\", FutureWarning)\n",
      "C:\\ProgramData\\Anaconda3\\lib\\site-packages\\sklearn\\svm\\base.py:193: FutureWarning: The default value of gamma will change from 'auto' to 'scale' in version 0.22 to account better for unscaled features. Set gamma explicitly to 'auto' or 'scale' to avoid this warning.\n",
      "  \"avoid this warning.\", FutureWarning)\n",
      "C:\\ProgramData\\Anaconda3\\lib\\site-packages\\sklearn\\svm\\base.py:193: FutureWarning: The default value of gamma will change from 'auto' to 'scale' in version 0.22 to account better for unscaled features. Set gamma explicitly to 'auto' or 'scale' to avoid this warning.\n",
      "  \"avoid this warning.\", FutureWarning)\n",
      "C:\\ProgramData\\Anaconda3\\lib\\site-packages\\sklearn\\svm\\base.py:193: FutureWarning: The default value of gamma will change from 'auto' to 'scale' in version 0.22 to account better for unscaled features. Set gamma explicitly to 'auto' or 'scale' to avoid this warning.\n",
      "  \"avoid this warning.\", FutureWarning)\n"
     ]
    },
    {
     "name": "stdout",
     "output_type": "stream",
     "text": [
      "Cross_Val_Score =  0.07576215096508802\n",
      "\n",
      "\n",
      "************* KNeighborsRegressor *************\n",
      "\n",
      " KNeighborsRegressor(algorithm='auto', leaf_size=30, metric='minkowski',\n",
      "                    metric_params=None, n_jobs=None, n_neighbors=5, p=2,\n",
      "                    weights='uniform')\n",
      "R2_score =  0.026075307809754533\n",
      "Mean_Squared_Error = 35471.11517048631\n",
      "RMSE=  188.33776883696564\n",
      "Cross_Val_Score =  0.02045482624406496\n",
      "\n",
      "\n",
      "************* AdaBoostRegressor *************\n",
      "\n",
      " AdaBoostRegressor(base_estimator=None, learning_rate=1.0, loss='linear',\n",
      "                  n_estimators=50, random_state=97)\n",
      "R2_score =  0.10831590474672825\n",
      "Mean_Squared_Error = 32475.846943863395\n",
      "RMSE=  180.21056279769894\n",
      "Cross_Val_Score =  0.11505177362943586\n",
      "\n",
      "\n",
      "************* RandomForestRegressor *************\n",
      "\n",
      " RandomForestRegressor(bootstrap=True, criterion='mse', max_depth=None,\n",
      "                      max_features='auto', max_leaf_nodes=None,\n",
      "                      min_impurity_decrease=0.0, min_impurity_split=None,\n",
      "                      min_samples_leaf=1, min_samples_split=2,\n",
      "                      min_weight_fraction_leaf=0.0, n_estimators='warn',\n",
      "                      n_jobs=None, oob_score=False, random_state=97, verbose=0,\n",
      "                      warm_start=False)\n",
      "R2_score =  0.004144656611767217\n",
      "Mean_Squared_Error = 36269.847003291725\n",
      "RMSE=  190.4464412985754\n"
     ]
    },
    {
     "name": "stderr",
     "output_type": "stream",
     "text": [
      "C:\\ProgramData\\Anaconda3\\lib\\site-packages\\sklearn\\ensemble\\forest.py:245: FutureWarning: The default value of n_estimators will change from 10 in version 0.20 to 100 in 0.22.\n",
      "  \"10 in version 0.20 to 100 in 0.22.\", FutureWarning)\n"
     ]
    },
    {
     "name": "stdout",
     "output_type": "stream",
     "text": [
      "Cross_Val_Score =  0.06093639983588256\n",
      "\n",
      "\n",
      "************* GradientBoostingRegressor *************\n",
      "\n",
      " GradientBoostingRegressor(alpha=0.9, criterion='friedman_mse', init=None,\n",
      "                          learning_rate=0.1, loss='ls', max_depth=3,\n",
      "                          max_features=None, max_leaf_nodes=None,\n",
      "                          min_impurity_decrease=0.0, min_impurity_split=None,\n",
      "                          min_samples_leaf=1, min_samples_split=2,\n",
      "                          min_weight_fraction_leaf=0.0, n_estimators=100,\n",
      "                          n_iter_no_change=None, presort='auto',\n",
      "                          random_state=97, subsample=1.0, tol=0.0001,\n",
      "                          validation_fraction=0.1, verbose=0, warm_start=False)\n",
      "R2_score =  0.18108723479335753\n",
      "Mean_Squared_Error = 29825.456980560943\n",
      "RMSE=  172.70048344043784\n",
      "Cross_Val_Score =  0.19482218116942135\n",
      "\n",
      "\n",
      "************* XGBRegressor *************\n",
      "\n",
      " XGBRegressor(base_score=None, booster=None, colsample_bylevel=None,\n",
      "             colsample_bynode=None, colsample_bytree=None, gamma=None,\n",
      "             gpu_id=None, importance_type='gain', interaction_constraints=None,\n",
      "             learning_rate=None, max_delta_step=None, max_depth=None,\n",
      "             min_child_weight=None, missing=nan, monotone_constraints=None,\n",
      "             n_estimators=100, n_jobs=None, num_parallel_tree=None,\n",
      "             objective='reg:squarederror', random_state=97, reg_alpha=None,\n",
      "             reg_lambda=None, scale_pos_weight=None, subsample=None,\n",
      "             tree_method=None, validate_parameters=False, verbosity=None)\n",
      "R2_score =  0.14750946060598946\n",
      "Mean_Squared_Error = 31048.386335283634\n",
      "RMSE=  176.2055229988085\n",
      "Cross_Val_Score =  0.1740290135750298\n",
      "\n",
      "\n"
     ]
    }
   ],
   "source": [
    "Model=[]\n",
    "R2_score=[]\n",
    "cvs=[]\n",
    "MSE=[]\n",
    "rmse=[]\n",
    "for name,model in models:\n",
    "    print('*************',name,'*************')\n",
    "    print('\\n',model)\n",
    "    Model.append(name)\n",
    "    model.fit(x_train,y_train)\n",
    "    pre=model.predict(x_test)\n",
    "    r2=r2_score(y_test,pre)\n",
    "    print('R2_score = ',r2)\n",
    "    R2_score.append(r2)\n",
    "    mse=mean_squared_error(y_test,pre)\n",
    "    print(\"Mean_Squared_Error =\",mse)\n",
    "    MSE.append(round(mse,3))\n",
    "    b=np.sqrt(mse)\n",
    "    print('RMSE= ',b)\n",
    "    rmse.append(b)\n",
    "    score= cross_val_score(model,x,y,cv=10,scoring='r2').mean()\n",
    "    print('Cross_Val_Score = ',score)\n",
    "    cvs.append(score)\n",
    "    print('\\n')"
   ]
  },
  {
   "cell_type": "code",
   "execution_count": 119,
   "metadata": {},
   "outputs": [
    {
     "data": {
      "text/html": [
       "<div>\n",
       "<style scoped>\n",
       "    .dataframe tbody tr th:only-of-type {\n",
       "        vertical-align: middle;\n",
       "    }\n",
       "\n",
       "    .dataframe tbody tr th {\n",
       "        vertical-align: top;\n",
       "    }\n",
       "\n",
       "    .dataframe thead th {\n",
       "        text-align: right;\n",
       "    }\n",
       "</style>\n",
       "<table border=\"1\" class=\"dataframe\">\n",
       "  <thead>\n",
       "    <tr style=\"text-align: right;\">\n",
       "      <th></th>\n",
       "      <th>Model</th>\n",
       "      <th>R2_score</th>\n",
       "      <th>Mean_Squared_Error</th>\n",
       "      <th>RMSE</th>\n",
       "      <th>Cross_val_score</th>\n",
       "    </tr>\n",
       "  </thead>\n",
       "  <tbody>\n",
       "    <tr>\n",
       "      <td>0</td>\n",
       "      <td>LinearRegression</td>\n",
       "      <td>0.085433</td>\n",
       "      <td>33309.246</td>\n",
       "      <td>182.508209</td>\n",
       "      <td>0.105525</td>\n",
       "    </tr>\n",
       "    <tr>\n",
       "      <td>1</td>\n",
       "      <td>Lasso</td>\n",
       "      <td>0.085458</td>\n",
       "      <td>33308.340</td>\n",
       "      <td>182.505727</td>\n",
       "      <td>0.105114</td>\n",
       "    </tr>\n",
       "    <tr>\n",
       "      <td>2</td>\n",
       "      <td>Ridge</td>\n",
       "      <td>0.085432</td>\n",
       "      <td>33309.289</td>\n",
       "      <td>182.508325</td>\n",
       "      <td>0.105525</td>\n",
       "    </tr>\n",
       "    <tr>\n",
       "      <td>3</td>\n",
       "      <td>ElasticNet</td>\n",
       "      <td>0.073964</td>\n",
       "      <td>33726.982</td>\n",
       "      <td>183.649074</td>\n",
       "      <td>0.088499</td>\n",
       "    </tr>\n",
       "    <tr>\n",
       "      <td>4</td>\n",
       "      <td>DecisionTreeRegressor</td>\n",
       "      <td>-0.573685</td>\n",
       "      <td>57314.869</td>\n",
       "      <td>239.405239</td>\n",
       "      <td>-0.583667</td>\n",
       "    </tr>\n",
       "    <tr>\n",
       "      <td>5</td>\n",
       "      <td>SVR</td>\n",
       "      <td>0.050370</td>\n",
       "      <td>34586.268</td>\n",
       "      <td>185.973838</td>\n",
       "      <td>0.075762</td>\n",
       "    </tr>\n",
       "    <tr>\n",
       "      <td>6</td>\n",
       "      <td>KNeighborsRegressor</td>\n",
       "      <td>0.026075</td>\n",
       "      <td>35471.115</td>\n",
       "      <td>188.337769</td>\n",
       "      <td>0.020455</td>\n",
       "    </tr>\n",
       "    <tr>\n",
       "      <td>7</td>\n",
       "      <td>AdaBoostRegressor</td>\n",
       "      <td>0.108316</td>\n",
       "      <td>32475.847</td>\n",
       "      <td>180.210563</td>\n",
       "      <td>0.115052</td>\n",
       "    </tr>\n",
       "    <tr>\n",
       "      <td>8</td>\n",
       "      <td>RandomForestRegressor</td>\n",
       "      <td>0.004145</td>\n",
       "      <td>36269.847</td>\n",
       "      <td>190.446441</td>\n",
       "      <td>0.060936</td>\n",
       "    </tr>\n",
       "    <tr>\n",
       "      <td>9</td>\n",
       "      <td>GradientBoostingRegressor</td>\n",
       "      <td>0.181087</td>\n",
       "      <td>29825.457</td>\n",
       "      <td>172.700483</td>\n",
       "      <td>0.194822</td>\n",
       "    </tr>\n",
       "    <tr>\n",
       "      <td>10</td>\n",
       "      <td>XGBRegressor</td>\n",
       "      <td>0.147509</td>\n",
       "      <td>31048.386</td>\n",
       "      <td>176.205523</td>\n",
       "      <td>0.174029</td>\n",
       "    </tr>\n",
       "  </tbody>\n",
       "</table>\n",
       "</div>"
      ],
      "text/plain": [
       "                        Model  R2_score  Mean_Squared_Error        RMSE  \\\n",
       "0            LinearRegression  0.085433           33309.246  182.508209   \n",
       "1                       Lasso  0.085458           33308.340  182.505727   \n",
       "2                       Ridge  0.085432           33309.289  182.508325   \n",
       "3                  ElasticNet  0.073964           33726.982  183.649074   \n",
       "4       DecisionTreeRegressor -0.573685           57314.869  239.405239   \n",
       "5                         SVR  0.050370           34586.268  185.973838   \n",
       "6         KNeighborsRegressor  0.026075           35471.115  188.337769   \n",
       "7           AdaBoostRegressor  0.108316           32475.847  180.210563   \n",
       "8       RandomForestRegressor  0.004145           36269.847  190.446441   \n",
       "9   GradientBoostingRegressor  0.181087           29825.457  172.700483   \n",
       "10               XGBRegressor  0.147509           31048.386  176.205523   \n",
       "\n",
       "    Cross_val_score  \n",
       "0          0.105525  \n",
       "1          0.105114  \n",
       "2          0.105525  \n",
       "3          0.088499  \n",
       "4         -0.583667  \n",
       "5          0.075762  \n",
       "6          0.020455  \n",
       "7          0.115052  \n",
       "8          0.060936  \n",
       "9          0.194822  \n",
       "10         0.174029  "
      ]
     },
     "execution_count": 119,
     "metadata": {},
     "output_type": "execute_result"
    }
   ],
   "source": [
    "result = pd.DataFrame({'Model': Model, 'R2_score': R2_score ,'Mean_Squared_Error' :MSE,'RMSE' : rmse ,'Cross_val_score':cvs})\n",
    "result"
   ]
  },
  {
   "cell_type": "code",
   "execution_count": 120,
   "metadata": {},
   "outputs": [
    {
     "data": {
      "text/plain": [
       "['Doctor_Consultation_Fee .csv']"
      ]
     },
     "execution_count": 120,
     "metadata": {},
     "output_type": "execute_result"
    }
   ],
   "source": [
    "from sklearn.externals import joblib\n",
    "joblib.dump(GBR,'Doctor_Consultation_Fee .csv')"
   ]
  },
  {
   "cell_type": "code",
   "execution_count": 121,
   "metadata": {},
   "outputs": [],
   "source": [
    "Model=joblib.load('Doctor_Consultation_Fee .csv ')"
   ]
  },
  {
   "cell_type": "code",
   "execution_count": null,
   "metadata": {},
   "outputs": [],
   "source": []
  }
 ],
 "metadata": {
  "kernelspec": {
   "display_name": "Python 3",
   "language": "python",
   "name": "python3"
  },
  "language_info": {
   "codemirror_mode": {
    "name": "ipython",
    "version": 3
   },
   "file_extension": ".py",
   "mimetype": "text/x-python",
   "name": "python",
   "nbconvert_exporter": "python",
   "pygments_lexer": "ipython3",
   "version": "3.7.4"
  }
 },
 "nbformat": 4,
 "nbformat_minor": 2
}
