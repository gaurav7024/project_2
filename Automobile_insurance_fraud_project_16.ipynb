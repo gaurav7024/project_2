{
 "cells": [
  {
   "cell_type": "code",
   "execution_count": 300,
   "metadata": {},
   "outputs": [],
   "source": [
    "import pandas as pd\n",
    "import numpy as np\n",
    "import seaborn as sns\n",
    "import matplotlib.pyplot as plt\n",
    "import warnings\n",
    "warnings.filterwarnings('ignore')"
   ]
  },
  {
   "cell_type": "code",
   "execution_count": 301,
   "metadata": {},
   "outputs": [],
   "source": [
    "df=pd.read_csv('Automobile_insurance_fraud.csv')"
   ]
  },
  {
   "cell_type": "code",
   "execution_count": 302,
   "metadata": {},
   "outputs": [
    {
     "data": {
      "text/html": [
       "<div>\n",
       "<style scoped>\n",
       "    .dataframe tbody tr th:only-of-type {\n",
       "        vertical-align: middle;\n",
       "    }\n",
       "\n",
       "    .dataframe tbody tr th {\n",
       "        vertical-align: top;\n",
       "    }\n",
       "\n",
       "    .dataframe thead th {\n",
       "        text-align: right;\n",
       "    }\n",
       "</style>\n",
       "<table border=\"1\" class=\"dataframe\">\n",
       "  <thead>\n",
       "    <tr style=\"text-align: right;\">\n",
       "      <th></th>\n",
       "      <th>months_as_customer</th>\n",
       "      <th>age</th>\n",
       "      <th>policy_number</th>\n",
       "      <th>policy_bind_date</th>\n",
       "      <th>policy_state</th>\n",
       "      <th>policy_csl</th>\n",
       "      <th>policy_deductable</th>\n",
       "      <th>policy_annual_premium</th>\n",
       "      <th>umbrella_limit</th>\n",
       "      <th>insured_zip</th>\n",
       "      <th>...</th>\n",
       "      <th>police_report_available</th>\n",
       "      <th>total_claim_amount</th>\n",
       "      <th>injury_claim</th>\n",
       "      <th>property_claim</th>\n",
       "      <th>vehicle_claim</th>\n",
       "      <th>auto_make</th>\n",
       "      <th>auto_model</th>\n",
       "      <th>auto_year</th>\n",
       "      <th>fraud_reported</th>\n",
       "      <th>_c39</th>\n",
       "    </tr>\n",
       "  </thead>\n",
       "  <tbody>\n",
       "    <tr>\n",
       "      <td>0</td>\n",
       "      <td>328</td>\n",
       "      <td>48</td>\n",
       "      <td>521585</td>\n",
       "      <td>17-10-2014</td>\n",
       "      <td>OH</td>\n",
       "      <td>250/500</td>\n",
       "      <td>1000</td>\n",
       "      <td>1406.91</td>\n",
       "      <td>0</td>\n",
       "      <td>466132</td>\n",
       "      <td>...</td>\n",
       "      <td>YES</td>\n",
       "      <td>71610</td>\n",
       "      <td>6510</td>\n",
       "      <td>13020</td>\n",
       "      <td>52080</td>\n",
       "      <td>Saab</td>\n",
       "      <td>92x</td>\n",
       "      <td>2004</td>\n",
       "      <td>Y</td>\n",
       "      <td>NaN</td>\n",
       "    </tr>\n",
       "    <tr>\n",
       "      <td>1</td>\n",
       "      <td>228</td>\n",
       "      <td>42</td>\n",
       "      <td>342868</td>\n",
       "      <td>27-06-2006</td>\n",
       "      <td>IN</td>\n",
       "      <td>250/500</td>\n",
       "      <td>2000</td>\n",
       "      <td>1197.22</td>\n",
       "      <td>5000000</td>\n",
       "      <td>468176</td>\n",
       "      <td>...</td>\n",
       "      <td>?</td>\n",
       "      <td>5070</td>\n",
       "      <td>780</td>\n",
       "      <td>780</td>\n",
       "      <td>3510</td>\n",
       "      <td>Mercedes</td>\n",
       "      <td>E400</td>\n",
       "      <td>2007</td>\n",
       "      <td>Y</td>\n",
       "      <td>NaN</td>\n",
       "    </tr>\n",
       "    <tr>\n",
       "      <td>2</td>\n",
       "      <td>134</td>\n",
       "      <td>29</td>\n",
       "      <td>687698</td>\n",
       "      <td>06-09-2000</td>\n",
       "      <td>OH</td>\n",
       "      <td>100/300</td>\n",
       "      <td>2000</td>\n",
       "      <td>1413.14</td>\n",
       "      <td>5000000</td>\n",
       "      <td>430632</td>\n",
       "      <td>...</td>\n",
       "      <td>NO</td>\n",
       "      <td>34650</td>\n",
       "      <td>7700</td>\n",
       "      <td>3850</td>\n",
       "      <td>23100</td>\n",
       "      <td>Dodge</td>\n",
       "      <td>RAM</td>\n",
       "      <td>2007</td>\n",
       "      <td>N</td>\n",
       "      <td>NaN</td>\n",
       "    </tr>\n",
       "    <tr>\n",
       "      <td>3</td>\n",
       "      <td>256</td>\n",
       "      <td>41</td>\n",
       "      <td>227811</td>\n",
       "      <td>25-05-1990</td>\n",
       "      <td>IL</td>\n",
       "      <td>250/500</td>\n",
       "      <td>2000</td>\n",
       "      <td>1415.74</td>\n",
       "      <td>6000000</td>\n",
       "      <td>608117</td>\n",
       "      <td>...</td>\n",
       "      <td>NO</td>\n",
       "      <td>63400</td>\n",
       "      <td>6340</td>\n",
       "      <td>6340</td>\n",
       "      <td>50720</td>\n",
       "      <td>Chevrolet</td>\n",
       "      <td>Tahoe</td>\n",
       "      <td>2014</td>\n",
       "      <td>Y</td>\n",
       "      <td>NaN</td>\n",
       "    </tr>\n",
       "    <tr>\n",
       "      <td>4</td>\n",
       "      <td>228</td>\n",
       "      <td>44</td>\n",
       "      <td>367455</td>\n",
       "      <td>06-06-2014</td>\n",
       "      <td>IL</td>\n",
       "      <td>500/1000</td>\n",
       "      <td>1000</td>\n",
       "      <td>1583.91</td>\n",
       "      <td>6000000</td>\n",
       "      <td>610706</td>\n",
       "      <td>...</td>\n",
       "      <td>NO</td>\n",
       "      <td>6500</td>\n",
       "      <td>1300</td>\n",
       "      <td>650</td>\n",
       "      <td>4550</td>\n",
       "      <td>Accura</td>\n",
       "      <td>RSX</td>\n",
       "      <td>2009</td>\n",
       "      <td>N</td>\n",
       "      <td>NaN</td>\n",
       "    </tr>\n",
       "    <tr>\n",
       "      <td>...</td>\n",
       "      <td>...</td>\n",
       "      <td>...</td>\n",
       "      <td>...</td>\n",
       "      <td>...</td>\n",
       "      <td>...</td>\n",
       "      <td>...</td>\n",
       "      <td>...</td>\n",
       "      <td>...</td>\n",
       "      <td>...</td>\n",
       "      <td>...</td>\n",
       "      <td>...</td>\n",
       "      <td>...</td>\n",
       "      <td>...</td>\n",
       "      <td>...</td>\n",
       "      <td>...</td>\n",
       "      <td>...</td>\n",
       "      <td>...</td>\n",
       "      <td>...</td>\n",
       "      <td>...</td>\n",
       "      <td>...</td>\n",
       "      <td>...</td>\n",
       "    </tr>\n",
       "    <tr>\n",
       "      <td>995</td>\n",
       "      <td>3</td>\n",
       "      <td>38</td>\n",
       "      <td>941851</td>\n",
       "      <td>16-07-1991</td>\n",
       "      <td>OH</td>\n",
       "      <td>500/1000</td>\n",
       "      <td>1000</td>\n",
       "      <td>1310.80</td>\n",
       "      <td>0</td>\n",
       "      <td>431289</td>\n",
       "      <td>...</td>\n",
       "      <td>?</td>\n",
       "      <td>87200</td>\n",
       "      <td>17440</td>\n",
       "      <td>8720</td>\n",
       "      <td>61040</td>\n",
       "      <td>Honda</td>\n",
       "      <td>Accord</td>\n",
       "      <td>2006</td>\n",
       "      <td>N</td>\n",
       "      <td>NaN</td>\n",
       "    </tr>\n",
       "    <tr>\n",
       "      <td>996</td>\n",
       "      <td>285</td>\n",
       "      <td>41</td>\n",
       "      <td>186934</td>\n",
       "      <td>05-01-2014</td>\n",
       "      <td>IL</td>\n",
       "      <td>100/300</td>\n",
       "      <td>1000</td>\n",
       "      <td>1436.79</td>\n",
       "      <td>0</td>\n",
       "      <td>608177</td>\n",
       "      <td>...</td>\n",
       "      <td>?</td>\n",
       "      <td>108480</td>\n",
       "      <td>18080</td>\n",
       "      <td>18080</td>\n",
       "      <td>72320</td>\n",
       "      <td>Volkswagen</td>\n",
       "      <td>Passat</td>\n",
       "      <td>2015</td>\n",
       "      <td>N</td>\n",
       "      <td>NaN</td>\n",
       "    </tr>\n",
       "    <tr>\n",
       "      <td>997</td>\n",
       "      <td>130</td>\n",
       "      <td>34</td>\n",
       "      <td>918516</td>\n",
       "      <td>17-02-2003</td>\n",
       "      <td>OH</td>\n",
       "      <td>250/500</td>\n",
       "      <td>500</td>\n",
       "      <td>1383.49</td>\n",
       "      <td>3000000</td>\n",
       "      <td>442797</td>\n",
       "      <td>...</td>\n",
       "      <td>YES</td>\n",
       "      <td>67500</td>\n",
       "      <td>7500</td>\n",
       "      <td>7500</td>\n",
       "      <td>52500</td>\n",
       "      <td>Suburu</td>\n",
       "      <td>Impreza</td>\n",
       "      <td>1996</td>\n",
       "      <td>N</td>\n",
       "      <td>NaN</td>\n",
       "    </tr>\n",
       "    <tr>\n",
       "      <td>998</td>\n",
       "      <td>458</td>\n",
       "      <td>62</td>\n",
       "      <td>533940</td>\n",
       "      <td>18-11-2011</td>\n",
       "      <td>IL</td>\n",
       "      <td>500/1000</td>\n",
       "      <td>2000</td>\n",
       "      <td>1356.92</td>\n",
       "      <td>5000000</td>\n",
       "      <td>441714</td>\n",
       "      <td>...</td>\n",
       "      <td>YES</td>\n",
       "      <td>46980</td>\n",
       "      <td>5220</td>\n",
       "      <td>5220</td>\n",
       "      <td>36540</td>\n",
       "      <td>Audi</td>\n",
       "      <td>A5</td>\n",
       "      <td>1998</td>\n",
       "      <td>N</td>\n",
       "      <td>NaN</td>\n",
       "    </tr>\n",
       "    <tr>\n",
       "      <td>999</td>\n",
       "      <td>456</td>\n",
       "      <td>60</td>\n",
       "      <td>556080</td>\n",
       "      <td>11-11-1996</td>\n",
       "      <td>OH</td>\n",
       "      <td>250/500</td>\n",
       "      <td>1000</td>\n",
       "      <td>766.19</td>\n",
       "      <td>0</td>\n",
       "      <td>612260</td>\n",
       "      <td>...</td>\n",
       "      <td>?</td>\n",
       "      <td>5060</td>\n",
       "      <td>460</td>\n",
       "      <td>920</td>\n",
       "      <td>3680</td>\n",
       "      <td>Mercedes</td>\n",
       "      <td>E400</td>\n",
       "      <td>2007</td>\n",
       "      <td>N</td>\n",
       "      <td>NaN</td>\n",
       "    </tr>\n",
       "  </tbody>\n",
       "</table>\n",
       "<p>1000 rows × 40 columns</p>\n",
       "</div>"
      ],
      "text/plain": [
       "     months_as_customer  age  policy_number policy_bind_date policy_state  \\\n",
       "0                   328   48         521585       17-10-2014           OH   \n",
       "1                   228   42         342868       27-06-2006           IN   \n",
       "2                   134   29         687698       06-09-2000           OH   \n",
       "3                   256   41         227811       25-05-1990           IL   \n",
       "4                   228   44         367455       06-06-2014           IL   \n",
       "..                  ...  ...            ...              ...          ...   \n",
       "995                   3   38         941851       16-07-1991           OH   \n",
       "996                 285   41         186934       05-01-2014           IL   \n",
       "997                 130   34         918516       17-02-2003           OH   \n",
       "998                 458   62         533940       18-11-2011           IL   \n",
       "999                 456   60         556080       11-11-1996           OH   \n",
       "\n",
       "    policy_csl  policy_deductable  policy_annual_premium  umbrella_limit  \\\n",
       "0      250/500               1000                1406.91               0   \n",
       "1      250/500               2000                1197.22         5000000   \n",
       "2      100/300               2000                1413.14         5000000   \n",
       "3      250/500               2000                1415.74         6000000   \n",
       "4     500/1000               1000                1583.91         6000000   \n",
       "..         ...                ...                    ...             ...   \n",
       "995   500/1000               1000                1310.80               0   \n",
       "996    100/300               1000                1436.79               0   \n",
       "997    250/500                500                1383.49         3000000   \n",
       "998   500/1000               2000                1356.92         5000000   \n",
       "999    250/500               1000                 766.19               0   \n",
       "\n",
       "     insured_zip  ... police_report_available total_claim_amount injury_claim  \\\n",
       "0         466132  ...                     YES              71610         6510   \n",
       "1         468176  ...                       ?               5070          780   \n",
       "2         430632  ...                      NO              34650         7700   \n",
       "3         608117  ...                      NO              63400         6340   \n",
       "4         610706  ...                      NO               6500         1300   \n",
       "..           ...  ...                     ...                ...          ...   \n",
       "995       431289  ...                       ?              87200        17440   \n",
       "996       608177  ...                       ?             108480        18080   \n",
       "997       442797  ...                     YES              67500         7500   \n",
       "998       441714  ...                     YES              46980         5220   \n",
       "999       612260  ...                       ?               5060          460   \n",
       "\n",
       "    property_claim vehicle_claim   auto_make  auto_model auto_year  \\\n",
       "0            13020         52080        Saab         92x      2004   \n",
       "1              780          3510    Mercedes        E400      2007   \n",
       "2             3850         23100       Dodge         RAM      2007   \n",
       "3             6340         50720   Chevrolet       Tahoe      2014   \n",
       "4              650          4550      Accura         RSX      2009   \n",
       "..             ...           ...         ...         ...       ...   \n",
       "995           8720         61040       Honda      Accord      2006   \n",
       "996          18080         72320  Volkswagen      Passat      2015   \n",
       "997           7500         52500      Suburu     Impreza      1996   \n",
       "998           5220         36540        Audi          A5      1998   \n",
       "999            920          3680    Mercedes        E400      2007   \n",
       "\n",
       "    fraud_reported _c39  \n",
       "0                Y  NaN  \n",
       "1                Y  NaN  \n",
       "2                N  NaN  \n",
       "3                Y  NaN  \n",
       "4                N  NaN  \n",
       "..             ...  ...  \n",
       "995              N  NaN  \n",
       "996              N  NaN  \n",
       "997              N  NaN  \n",
       "998              N  NaN  \n",
       "999              N  NaN  \n",
       "\n",
       "[1000 rows x 40 columns]"
      ]
     },
     "execution_count": 302,
     "metadata": {},
     "output_type": "execute_result"
    }
   ],
   "source": [
    "df"
   ]
  },
  {
   "cell_type": "code",
   "execution_count": 303,
   "metadata": {},
   "outputs": [
    {
     "data": {
      "text/plain": [
       "N    753\n",
       "Y    247\n",
       "Name: fraud_reported, dtype: int64"
      ]
     },
     "execution_count": 303,
     "metadata": {},
     "output_type": "execute_result"
    }
   ],
   "source": [
    "df['fraud_reported'].value_counts()"
   ]
  },
  {
   "cell_type": "code",
   "execution_count": 304,
   "metadata": {},
   "outputs": [
    {
     "data": {
      "text/plain": [
       "(1000, 40)"
      ]
     },
     "execution_count": 304,
     "metadata": {},
     "output_type": "execute_result"
    }
   ],
   "source": [
    "df.shape"
   ]
  },
  {
   "cell_type": "code",
   "execution_count": 305,
   "metadata": {},
   "outputs": [
    {
     "data": {
      "text/plain": [
       "Index(['months_as_customer', 'age', 'policy_number', 'policy_bind_date',\n",
       "       'policy_state', 'policy_csl', 'policy_deductable',\n",
       "       'policy_annual_premium', 'umbrella_limit', 'insured_zip', 'insured_sex',\n",
       "       'insured_education_level', 'insured_occupation', 'insured_hobbies',\n",
       "       'insured_relationship', 'capital-gains', 'capital-loss',\n",
       "       'incident_date', 'incident_type', 'collision_type', 'incident_severity',\n",
       "       'authorities_contacted', 'incident_state', 'incident_city',\n",
       "       'incident_location', 'incident_hour_of_the_day',\n",
       "       'number_of_vehicles_involved', 'property_damage', 'bodily_injuries',\n",
       "       'witnesses', 'police_report_available', 'total_claim_amount',\n",
       "       'injury_claim', 'property_claim', 'vehicle_claim', 'auto_make',\n",
       "       'auto_model', 'auto_year', 'fraud_reported', '_c39'],\n",
       "      dtype='object')"
      ]
     },
     "execution_count": 305,
     "metadata": {},
     "output_type": "execute_result"
    }
   ],
   "source": [
    "df.columns"
   ]
  },
  {
   "cell_type": "code",
   "execution_count": 306,
   "metadata": {},
   "outputs": [
    {
     "data": {
      "text/plain": [
       "months_as_customer               int64\n",
       "age                              int64\n",
       "policy_number                    int64\n",
       "policy_bind_date                object\n",
       "policy_state                    object\n",
       "policy_csl                      object\n",
       "policy_deductable                int64\n",
       "policy_annual_premium          float64\n",
       "umbrella_limit                   int64\n",
       "insured_zip                      int64\n",
       "insured_sex                     object\n",
       "insured_education_level         object\n",
       "insured_occupation              object\n",
       "insured_hobbies                 object\n",
       "insured_relationship            object\n",
       "capital-gains                    int64\n",
       "capital-loss                     int64\n",
       "incident_date                   object\n",
       "incident_type                   object\n",
       "collision_type                  object\n",
       "incident_severity               object\n",
       "authorities_contacted           object\n",
       "incident_state                  object\n",
       "incident_city                   object\n",
       "incident_location               object\n",
       "incident_hour_of_the_day         int64\n",
       "number_of_vehicles_involved      int64\n",
       "property_damage                 object\n",
       "bodily_injuries                  int64\n",
       "witnesses                        int64\n",
       "police_report_available         object\n",
       "total_claim_amount               int64\n",
       "injury_claim                     int64\n",
       "property_claim                   int64\n",
       "vehicle_claim                    int64\n",
       "auto_make                       object\n",
       "auto_model                      object\n",
       "auto_year                        int64\n",
       "fraud_reported                  object\n",
       "_c39                           float64\n",
       "dtype: object"
      ]
     },
     "execution_count": 306,
     "metadata": {},
     "output_type": "execute_result"
    }
   ],
   "source": [
    "df.dtypes"
   ]
  },
  {
   "cell_type": "code",
   "execution_count": 307,
   "metadata": {},
   "outputs": [
    {
     "name": "stdout",
     "output_type": "stream",
     "text": [
      "<class 'pandas.core.frame.DataFrame'>\n",
      "RangeIndex: 1000 entries, 0 to 999\n",
      "Data columns (total 40 columns):\n",
      "months_as_customer             1000 non-null int64\n",
      "age                            1000 non-null int64\n",
      "policy_number                  1000 non-null int64\n",
      "policy_bind_date               1000 non-null object\n",
      "policy_state                   1000 non-null object\n",
      "policy_csl                     1000 non-null object\n",
      "policy_deductable              1000 non-null int64\n",
      "policy_annual_premium          1000 non-null float64\n",
      "umbrella_limit                 1000 non-null int64\n",
      "insured_zip                    1000 non-null int64\n",
      "insured_sex                    1000 non-null object\n",
      "insured_education_level        1000 non-null object\n",
      "insured_occupation             1000 non-null object\n",
      "insured_hobbies                1000 non-null object\n",
      "insured_relationship           1000 non-null object\n",
      "capital-gains                  1000 non-null int64\n",
      "capital-loss                   1000 non-null int64\n",
      "incident_date                  1000 non-null object\n",
      "incident_type                  1000 non-null object\n",
      "collision_type                 1000 non-null object\n",
      "incident_severity              1000 non-null object\n",
      "authorities_contacted          1000 non-null object\n",
      "incident_state                 1000 non-null object\n",
      "incident_city                  1000 non-null object\n",
      "incident_location              1000 non-null object\n",
      "incident_hour_of_the_day       1000 non-null int64\n",
      "number_of_vehicles_involved    1000 non-null int64\n",
      "property_damage                1000 non-null object\n",
      "bodily_injuries                1000 non-null int64\n",
      "witnesses                      1000 non-null int64\n",
      "police_report_available        1000 non-null object\n",
      "total_claim_amount             1000 non-null int64\n",
      "injury_claim                   1000 non-null int64\n",
      "property_claim                 1000 non-null int64\n",
      "vehicle_claim                  1000 non-null int64\n",
      "auto_make                      1000 non-null object\n",
      "auto_model                     1000 non-null object\n",
      "auto_year                      1000 non-null int64\n",
      "fraud_reported                 1000 non-null object\n",
      "_c39                           0 non-null float64\n",
      "dtypes: float64(2), int64(17), object(21)\n",
      "memory usage: 312.6+ KB\n"
     ]
    }
   ],
   "source": [
    "df.info()"
   ]
  },
  {
   "cell_type": "code",
   "execution_count": 308,
   "metadata": {},
   "outputs": [
    {
     "data": {
      "text/plain": [
       "months_as_customer                0\n",
       "age                               0\n",
       "policy_number                     0\n",
       "policy_bind_date                  0\n",
       "policy_state                      0\n",
       "policy_csl                        0\n",
       "policy_deductable                 0\n",
       "policy_annual_premium             0\n",
       "umbrella_limit                    0\n",
       "insured_zip                       0\n",
       "insured_sex                       0\n",
       "insured_education_level           0\n",
       "insured_occupation                0\n",
       "insured_hobbies                   0\n",
       "insured_relationship              0\n",
       "capital-gains                     0\n",
       "capital-loss                      0\n",
       "incident_date                     0\n",
       "incident_type                     0\n",
       "collision_type                    0\n",
       "incident_severity                 0\n",
       "authorities_contacted             0\n",
       "incident_state                    0\n",
       "incident_city                     0\n",
       "incident_location                 0\n",
       "incident_hour_of_the_day          0\n",
       "number_of_vehicles_involved       0\n",
       "property_damage                   0\n",
       "bodily_injuries                   0\n",
       "witnesses                         0\n",
       "police_report_available           0\n",
       "total_claim_amount                0\n",
       "injury_claim                      0\n",
       "property_claim                    0\n",
       "vehicle_claim                     0\n",
       "auto_make                         0\n",
       "auto_model                        0\n",
       "auto_year                         0\n",
       "fraud_reported                    0\n",
       "_c39                           1000\n",
       "dtype: int64"
      ]
     },
     "execution_count": 308,
     "metadata": {},
     "output_type": "execute_result"
    }
   ],
   "source": [
    "df.isnull().sum()"
   ]
  },
  {
   "cell_type": "code",
   "execution_count": 309,
   "metadata": {},
   "outputs": [
    {
     "data": {
      "text/plain": [
       "1000"
      ]
     },
     "execution_count": 309,
     "metadata": {},
     "output_type": "execute_result"
    }
   ],
   "source": [
    "df['policy_number'].nunique()"
   ]
  },
  {
   "cell_type": "code",
   "execution_count": 310,
   "metadata": {},
   "outputs": [],
   "source": [
    "df.drop(['policy_number','_c39'],axis=1,inplace=True)"
   ]
  },
  {
   "cell_type": "code",
   "execution_count": 311,
   "metadata": {},
   "outputs": [
    {
     "data": {
      "text/plain": [
       "0    17-10-2014\n",
       "1    27-06-2006\n",
       "2    06-09-2000\n",
       "3    25-05-1990\n",
       "4    06-06-2014\n",
       "Name: policy_bind_date, dtype: object"
      ]
     },
     "execution_count": 311,
     "metadata": {},
     "output_type": "execute_result"
    }
   ],
   "source": [
    "df['policy_bind_date'].head(5)"
   ]
  },
  {
   "cell_type": "code",
   "execution_count": 312,
   "metadata": {},
   "outputs": [],
   "source": [
    "df['policy_bind_day']=df['policy_bind_date'].str.split('-').str[0].astype(int)\n",
    "df['policy_bind_month']=df['policy_bind_date'].str.split('-').str[1].astype(int)\n",
    "df['policy_bind_year']=df['policy_bind_date'].str.split('-').str[2].astype(int)"
   ]
  },
  {
   "cell_type": "code",
   "execution_count": 313,
   "metadata": {},
   "outputs": [],
   "source": [
    "df.drop(['policy_bind_date'],axis=1,inplace=True)"
   ]
  },
  {
   "cell_type": "code",
   "execution_count": 314,
   "metadata": {},
   "outputs": [
    {
     "data": {
      "text/plain": [
       "OH    352\n",
       "IL    338\n",
       "IN    310\n",
       "Name: policy_state, dtype: int64"
      ]
     },
     "execution_count": 314,
     "metadata": {},
     "output_type": "execute_result"
    }
   ],
   "source": [
    "df['policy_state'].value_counts()"
   ]
  },
  {
   "cell_type": "code",
   "execution_count": 315,
   "metadata": {},
   "outputs": [],
   "source": [
    "from sklearn.preprocessing import LabelEncoder\n",
    "le=LabelEncoder()\n",
    "df['policy_state']=le.fit_transform(df['policy_state'])"
   ]
  },
  {
   "cell_type": "code",
   "execution_count": 316,
   "metadata": {},
   "outputs": [
    {
     "data": {
      "text/plain": [
       "250/500     351\n",
       "100/300     349\n",
       "500/1000    300\n",
       "Name: policy_csl, dtype: int64"
      ]
     },
     "execution_count": 316,
     "metadata": {},
     "output_type": "execute_result"
    }
   ],
   "source": [
    "df['policy_csl'].value_counts()"
   ]
  },
  {
   "cell_type": "code",
   "execution_count": 317,
   "metadata": {},
   "outputs": [
    {
     "data": {
      "text/plain": [
       "FEMALE    537\n",
       "MALE      463\n",
       "Name: insured_sex, dtype: int64"
      ]
     },
     "execution_count": 317,
     "metadata": {},
     "output_type": "execute_result"
    }
   ],
   "source": [
    "df['insured_sex'].value_counts()"
   ]
  },
  {
   "cell_type": "code",
   "execution_count": 318,
   "metadata": {},
   "outputs": [
    {
     "data": {
      "text/plain": [
       "JD             161\n",
       "High School    160\n",
       "Associate      145\n",
       "MD             144\n",
       "Masters        143\n",
       "PhD            125\n",
       "College        122\n",
       "Name: insured_education_level, dtype: int64"
      ]
     },
     "execution_count": 318,
     "metadata": {},
     "output_type": "execute_result"
    }
   ],
   "source": [
    "df['insured_education_level'].value_counts()"
   ]
  },
  {
   "cell_type": "code",
   "execution_count": 319,
   "metadata": {},
   "outputs": [
    {
     "data": {
      "text/plain": [
       "machine-op-inspct    93\n",
       "prof-specialty       85\n",
       "tech-support         78\n",
       "exec-managerial      76\n",
       "sales                76\n",
       "craft-repair         74\n",
       "transport-moving     72\n",
       "priv-house-serv      71\n",
       "other-service        71\n",
       "armed-forces         69\n",
       "adm-clerical         65\n",
       "protective-serv      63\n",
       "handlers-cleaners    54\n",
       "farming-fishing      53\n",
       "Name: insured_occupation, dtype: int64"
      ]
     },
     "execution_count": 319,
     "metadata": {},
     "output_type": "execute_result"
    }
   ],
   "source": [
    "df['insured_occupation'].value_counts()"
   ]
  },
  {
   "cell_type": "code",
   "execution_count": 320,
   "metadata": {},
   "outputs": [
    {
     "data": {
      "text/plain": [
       "reading           64\n",
       "exercise          57\n",
       "paintball         57\n",
       "bungie-jumping    56\n",
       "camping           55\n",
       "movies            55\n",
       "golf              55\n",
       "kayaking          54\n",
       "yachting          53\n",
       "hiking            52\n",
       "video-games       50\n",
       "skydiving         49\n",
       "base-jumping      49\n",
       "board-games       48\n",
       "polo              47\n",
       "chess             46\n",
       "dancing           43\n",
       "sleeping          41\n",
       "cross-fit         35\n",
       "basketball        34\n",
       "Name: insured_hobbies, dtype: int64"
      ]
     },
     "execution_count": 320,
     "metadata": {},
     "output_type": "execute_result"
    }
   ],
   "source": [
    "df['insured_hobbies'].value_counts()"
   ]
  },
  {
   "cell_type": "code",
   "execution_count": 321,
   "metadata": {},
   "outputs": [
    {
     "data": {
      "text/plain": [
       "own-child         183\n",
       "other-relative    177\n",
       "not-in-family     174\n",
       "husband           170\n",
       "wife              155\n",
       "unmarried         141\n",
       "Name: insured_relationship, dtype: int64"
      ]
     },
     "execution_count": 321,
     "metadata": {},
     "output_type": "execute_result"
    }
   ],
   "source": [
    "df['insured_relationship'].value_counts()"
   ]
  },
  {
   "cell_type": "code",
   "execution_count": 322,
   "metadata": {},
   "outputs": [
    {
     "data": {
      "text/plain": [
       "0    25-01-2015\n",
       "1    21-01-2015\n",
       "Name: incident_date, dtype: object"
      ]
     },
     "execution_count": 322,
     "metadata": {},
     "output_type": "execute_result"
    }
   ],
   "source": [
    "df['incident_date'].head(2)"
   ]
  },
  {
   "cell_type": "code",
   "execution_count": 323,
   "metadata": {},
   "outputs": [
    {
     "data": {
      "text/plain": [
       "Multi-vehicle Collision     419\n",
       "Single Vehicle Collision    403\n",
       "Vehicle Theft                94\n",
       "Parked Car                   84\n",
       "Name: incident_type, dtype: int64"
      ]
     },
     "execution_count": 323,
     "metadata": {},
     "output_type": "execute_result"
    }
   ],
   "source": [
    "df['incident_type'].value_counts()"
   ]
  },
  {
   "cell_type": "code",
   "execution_count": 324,
   "metadata": {},
   "outputs": [
    {
     "data": {
      "text/plain": [
       "Rear Collision     292\n",
       "Side Collision     276\n",
       "Front Collision    254\n",
       "?                  178\n",
       "Name: collision_type, dtype: int64"
      ]
     },
     "execution_count": 324,
     "metadata": {},
     "output_type": "execute_result"
    }
   ],
   "source": [
    "df['collision_type'].value_counts()"
   ]
  },
  {
   "cell_type": "code",
   "execution_count": 325,
   "metadata": {},
   "outputs": [
    {
     "data": {
      "text/plain": [
       "Minor Damage      354\n",
       "Total Loss        280\n",
       "Major Damage      276\n",
       "Trivial Damage     90\n",
       "Name: incident_severity, dtype: int64"
      ]
     },
     "execution_count": 325,
     "metadata": {},
     "output_type": "execute_result"
    }
   ],
   "source": [
    "df['incident_severity'].value_counts()"
   ]
  },
  {
   "cell_type": "code",
   "execution_count": 326,
   "metadata": {},
   "outputs": [
    {
     "data": {
      "text/plain": [
       "Police       292\n",
       "Fire         223\n",
       "Other        198\n",
       "Ambulance    196\n",
       "None          91\n",
       "Name: authorities_contacted, dtype: int64"
      ]
     },
     "execution_count": 326,
     "metadata": {},
     "output_type": "execute_result"
    }
   ],
   "source": [
    "df['authorities_contacted'].value_counts()"
   ]
  },
  {
   "cell_type": "code",
   "execution_count": 327,
   "metadata": {},
   "outputs": [
    {
     "data": {
      "text/plain": [
       "NY    262\n",
       "SC    248\n",
       "WV    217\n",
       "NC    110\n",
       "VA    110\n",
       "PA     30\n",
       "OH     23\n",
       "Name: incident_state, dtype: int64"
      ]
     },
     "execution_count": 327,
     "metadata": {},
     "output_type": "execute_result"
    }
   ],
   "source": [
    "df['incident_state'].value_counts()"
   ]
  },
  {
   "cell_type": "code",
   "execution_count": 328,
   "metadata": {},
   "outputs": [
    {
     "data": {
      "text/plain": [
       "Springfield    157\n",
       "Arlington      152\n",
       "Columbus       149\n",
       "Northbend      145\n",
       "Hillsdale      141\n",
       "Riverwood      134\n",
       "Northbrook     122\n",
       "Name: incident_city, dtype: int64"
      ]
     },
     "execution_count": 328,
     "metadata": {},
     "output_type": "execute_result"
    }
   ],
   "source": [
    "df['incident_city'].value_counts()"
   ]
  },
  {
   "cell_type": "code",
   "execution_count": 329,
   "metadata": {},
   "outputs": [
    {
     "data": {
      "text/plain": [
       "9751 Sky Ridge         1\n",
       "9633 Rock Hwy          1\n",
       "5279 Pine Ridge        1\n",
       "8624 Francis Ave       1\n",
       "2696 Cherokee Ridge    1\n",
       "                      ..\n",
       "1102 Apache Hwy        1\n",
       "9177 Texas Ave         1\n",
       "8233 Tree Drive        1\n",
       "1135 Solo Lane         1\n",
       "6741 Oak Ridge         1\n",
       "Name: incident_location, Length: 1000, dtype: int64"
      ]
     },
     "execution_count": 329,
     "metadata": {},
     "output_type": "execute_result"
    }
   ],
   "source": [
    "df['incident_location'].value_counts()"
   ]
  },
  {
   "cell_type": "code",
   "execution_count": 330,
   "metadata": {},
   "outputs": [
    {
     "data": {
      "text/plain": [
       "0       9935 4th Drive\n",
       "1         6608 MLK Hwy\n",
       "2    7121 Francis Lane\n",
       "3     6956 Maple Drive\n",
       "4         3041 3rd Ave\n",
       "Name: incident_location, dtype: object"
      ]
     },
     "execution_count": 330,
     "metadata": {},
     "output_type": "execute_result"
    }
   ],
   "source": [
    "df['incident_location'].head()"
   ]
  },
  {
   "cell_type": "code",
   "execution_count": 331,
   "metadata": {},
   "outputs": [],
   "source": [
    "df.drop(['incident_location'],axis=1,inplace=True)"
   ]
  },
  {
   "cell_type": "code",
   "execution_count": 332,
   "metadata": {},
   "outputs": [
    {
     "data": {
      "text/plain": [
       "?      360\n",
       "NO     338\n",
       "YES    302\n",
       "Name: property_damage, dtype: int64"
      ]
     },
     "execution_count": 332,
     "metadata": {},
     "output_type": "execute_result"
    }
   ],
   "source": [
    "df['property_damage'].value_counts()"
   ]
  },
  {
   "cell_type": "code",
   "execution_count": 333,
   "metadata": {},
   "outputs": [],
   "source": [
    "df['property_damage'].replace(['?'],['None'],inplace=True)"
   ]
  },
  {
   "cell_type": "code",
   "execution_count": 334,
   "metadata": {},
   "outputs": [],
   "source": [
    "df['property_damage']=le.fit_transform(df['property_damage'])"
   ]
  },
  {
   "cell_type": "code",
   "execution_count": 335,
   "metadata": {},
   "outputs": [
    {
     "data": {
      "text/plain": [
       "?      343\n",
       "NO     343\n",
       "YES    314\n",
       "Name: police_report_available, dtype: int64"
      ]
     },
     "execution_count": 335,
     "metadata": {},
     "output_type": "execute_result"
    }
   ],
   "source": [
    "df['police_report_available'].value_counts()"
   ]
  },
  {
   "cell_type": "code",
   "execution_count": 336,
   "metadata": {},
   "outputs": [],
   "source": [
    "df['police_report_available'].replace(['?'],['None'],inplace=True)"
   ]
  },
  {
   "cell_type": "code",
   "execution_count": 337,
   "metadata": {},
   "outputs": [],
   "source": [
    "df['police_report_available']=le.fit_transform(df['police_report_available'])"
   ]
  },
  {
   "cell_type": "code",
   "execution_count": 338,
   "metadata": {},
   "outputs": [
    {
     "data": {
      "text/plain": [
       "Saab          80\n",
       "Suburu        80\n",
       "Dodge         80\n",
       "Nissan        78\n",
       "Chevrolet     76\n",
       "Ford          72\n",
       "BMW           72\n",
       "Toyota        70\n",
       "Audi          69\n",
       "Volkswagen    68\n",
       "Accura        68\n",
       "Jeep          67\n",
       "Mercedes      65\n",
       "Honda         55\n",
       "Name: auto_make, dtype: int64"
      ]
     },
     "execution_count": 338,
     "metadata": {},
     "output_type": "execute_result"
    }
   ],
   "source": [
    "df['auto_make'].value_counts()"
   ]
  },
  {
   "cell_type": "code",
   "execution_count": 339,
   "metadata": {},
   "outputs": [
    {
     "data": {
      "text/plain": [
       "RAM               43\n",
       "Wrangler          42\n",
       "Neon              37\n",
       "A3                37\n",
       "MDX               36\n",
       "Jetta             35\n",
       "Passat            33\n",
       "A5                32\n",
       "Legacy            32\n",
       "Pathfinder        31\n",
       "Malibu            30\n",
       "Forrestor         28\n",
       "Camry             28\n",
       "92x               28\n",
       "E400              27\n",
       "F150              27\n",
       "95                27\n",
       "Grand Cherokee    25\n",
       "93                25\n",
       "Escape            24\n",
       "Maxima            24\n",
       "Tahoe             24\n",
       "X5                23\n",
       "Ultima            23\n",
       "Silverado         22\n",
       "Civic             22\n",
       "Highlander        22\n",
       "Fusion            21\n",
       "ML350             20\n",
       "TL                20\n",
       "CRV               20\n",
       "Impreza           20\n",
       "Corolla           20\n",
       "3 Series          18\n",
       "C300              18\n",
       "X6                16\n",
       "M5                15\n",
       "Accord            13\n",
       "RSX               12\n",
       "Name: auto_model, dtype: int64"
      ]
     },
     "execution_count": 339,
     "metadata": {},
     "output_type": "execute_result"
    }
   ],
   "source": [
    "df['auto_model'].value_counts()"
   ]
  },
  {
   "cell_type": "code",
   "execution_count": 340,
   "metadata": {},
   "outputs": [
    {
     "data": {
      "text/plain": [
       "N    753\n",
       "Y    247\n",
       "Name: fraud_reported, dtype: int64"
      ]
     },
     "execution_count": 340,
     "metadata": {},
     "output_type": "execute_result"
    }
   ],
   "source": [
    "df['fraud_reported'].value_counts()"
   ]
  },
  {
   "cell_type": "code",
   "execution_count": 341,
   "metadata": {},
   "outputs": [],
   "source": [
    "df['policy_csl']=le.fit_transform(df['policy_csl'])"
   ]
  },
  {
   "cell_type": "code",
   "execution_count": 342,
   "metadata": {},
   "outputs": [],
   "source": [
    "df['insured_sex']=le.fit_transform(df['insured_sex'])"
   ]
  },
  {
   "cell_type": "code",
   "execution_count": 343,
   "metadata": {},
   "outputs": [],
   "source": [
    "df['insured_education_level']=le.fit_transform(df['insured_education_level'])"
   ]
  },
  {
   "cell_type": "code",
   "execution_count": 344,
   "metadata": {},
   "outputs": [],
   "source": [
    "df['insured_occupation']=le.fit_transform(df['insured_occupation'])"
   ]
  },
  {
   "cell_type": "code",
   "execution_count": 345,
   "metadata": {},
   "outputs": [],
   "source": [
    "df['insured_hobbies']=le.fit_transform(df['insured_hobbies'])"
   ]
  },
  {
   "cell_type": "code",
   "execution_count": 346,
   "metadata": {},
   "outputs": [],
   "source": [
    "df['insured_relationship']=le.fit_transform(df['insured_relationship'])"
   ]
  },
  {
   "cell_type": "code",
   "execution_count": 347,
   "metadata": {},
   "outputs": [],
   "source": [
    "df['incident_day']=df['incident_date'].str.split('-').str[0].astype(int)\n",
    "df['incident_month']=df['incident_date'].str.split('-').str[1].astype(int)\n",
    "df['incident_year']=df['incident_date'].str.split('-').str[2].astype(int)"
   ]
  },
  {
   "cell_type": "code",
   "execution_count": 348,
   "metadata": {},
   "outputs": [],
   "source": [
    "df.drop(['incident_date'],axis=1,inplace=True)"
   ]
  },
  {
   "cell_type": "code",
   "execution_count": 349,
   "metadata": {},
   "outputs": [],
   "source": [
    "df['incident_type']=le.fit_transform(df['incident_type'])"
   ]
  },
  {
   "cell_type": "code",
   "execution_count": 350,
   "metadata": {},
   "outputs": [],
   "source": [
    "df['collision_type'].replace(['?'],['None'],inplace=True)"
   ]
  },
  {
   "cell_type": "code",
   "execution_count": 351,
   "metadata": {},
   "outputs": [],
   "source": [
    "df['collision_type']=le.fit_transform(df['collision_type'])"
   ]
  },
  {
   "cell_type": "code",
   "execution_count": 352,
   "metadata": {},
   "outputs": [],
   "source": [
    "df['incident_severity']=le.fit_transform(df['incident_severity'])"
   ]
  },
  {
   "cell_type": "code",
   "execution_count": 353,
   "metadata": {},
   "outputs": [],
   "source": [
    "df['authorities_contacted']=le.fit_transform(df['authorities_contacted'])"
   ]
  },
  {
   "cell_type": "code",
   "execution_count": 354,
   "metadata": {},
   "outputs": [],
   "source": [
    "df['incident_state']=le.fit_transform(df['incident_state'])"
   ]
  },
  {
   "cell_type": "code",
   "execution_count": 355,
   "metadata": {},
   "outputs": [],
   "source": [
    "df['incident_city']=le.fit_transform(df['incident_city'])"
   ]
  },
  {
   "cell_type": "code",
   "execution_count": 356,
   "metadata": {},
   "outputs": [],
   "source": [
    "df['auto_make']=le.fit_transform(df['auto_make'])"
   ]
  },
  {
   "cell_type": "code",
   "execution_count": 357,
   "metadata": {},
   "outputs": [],
   "source": [
    "df['auto_model']=le.fit_transform(df['auto_model'])"
   ]
  },
  {
   "cell_type": "code",
   "execution_count": 358,
   "metadata": {},
   "outputs": [],
   "source": [
    "df['fraud_reported']=le.fit_transform(df['fraud_reported'])"
   ]
  },
  {
   "cell_type": "code",
   "execution_count": 359,
   "metadata": {},
   "outputs": [
    {
     "name": "stdout",
     "output_type": "stream",
     "text": [
      "<class 'pandas.core.frame.DataFrame'>\n",
      "RangeIndex: 1000 entries, 0 to 999\n",
      "Data columns (total 41 columns):\n",
      "months_as_customer             1000 non-null int64\n",
      "age                            1000 non-null int64\n",
      "policy_state                   1000 non-null int32\n",
      "policy_csl                     1000 non-null int32\n",
      "policy_deductable              1000 non-null int64\n",
      "policy_annual_premium          1000 non-null float64\n",
      "umbrella_limit                 1000 non-null int64\n",
      "insured_zip                    1000 non-null int64\n",
      "insured_sex                    1000 non-null int32\n",
      "insured_education_level        1000 non-null int32\n",
      "insured_occupation             1000 non-null int32\n",
      "insured_hobbies                1000 non-null int32\n",
      "insured_relationship           1000 non-null int32\n",
      "capital-gains                  1000 non-null int64\n",
      "capital-loss                   1000 non-null int64\n",
      "incident_type                  1000 non-null int32\n",
      "collision_type                 1000 non-null int32\n",
      "incident_severity              1000 non-null int32\n",
      "authorities_contacted          1000 non-null int32\n",
      "incident_state                 1000 non-null int32\n",
      "incident_city                  1000 non-null int32\n",
      "incident_hour_of_the_day       1000 non-null int64\n",
      "number_of_vehicles_involved    1000 non-null int64\n",
      "property_damage                1000 non-null int32\n",
      "bodily_injuries                1000 non-null int64\n",
      "witnesses                      1000 non-null int64\n",
      "police_report_available        1000 non-null int32\n",
      "total_claim_amount             1000 non-null int64\n",
      "injury_claim                   1000 non-null int64\n",
      "property_claim                 1000 non-null int64\n",
      "vehicle_claim                  1000 non-null int64\n",
      "auto_make                      1000 non-null int32\n",
      "auto_model                     1000 non-null int32\n",
      "auto_year                      1000 non-null int64\n",
      "fraud_reported                 1000 non-null int32\n",
      "policy_bind_day                1000 non-null int32\n",
      "policy_bind_month              1000 non-null int32\n",
      "policy_bind_year               1000 non-null int32\n",
      "incident_day                   1000 non-null int32\n",
      "incident_month                 1000 non-null int32\n",
      "incident_year                  1000 non-null int32\n",
      "dtypes: float64(1), int32(24), int64(16)\n",
      "memory usage: 226.7 KB\n"
     ]
    }
   ],
   "source": [
    "df.info()"
   ]
  },
  {
   "cell_type": "code",
   "execution_count": 360,
   "metadata": {},
   "outputs": [
    {
     "data": {
      "text/plain": [
       "(1000, 41)"
      ]
     },
     "execution_count": 360,
     "metadata": {},
     "output_type": "execute_result"
    }
   ],
   "source": [
    "df.shape"
   ]
  },
  {
   "cell_type": "code",
   "execution_count": 361,
   "metadata": {},
   "outputs": [
    {
     "data": {
      "text/plain": [
       "0    753\n",
       "1    247\n",
       "Name: fraud_reported, dtype: int64"
      ]
     },
     "execution_count": 361,
     "metadata": {},
     "output_type": "execute_result"
    }
   ],
   "source": [
    "df['fraud_reported'].value_counts()"
   ]
  },
  {
   "cell_type": "code",
   "execution_count": 362,
   "metadata": {},
   "outputs": [],
   "source": [
    "from sklearn.utils import resample\n",
    "df_0 = df[df['fraud_reported']==0]\n",
    "df_1 = df[df['fraud_reported']==1]\n",
    "\n",
    "df_1_ups = resample(df_1,replace=True,n_samples=753,random_state=123) \n",
    " \n",
    "df_new = pd.concat([df_0, df_1_ups])"
   ]
  },
  {
   "cell_type": "code",
   "execution_count": 363,
   "metadata": {},
   "outputs": [
    {
     "data": {
      "text/plain": [
       "(1506, 41)"
      ]
     },
     "execution_count": 363,
     "metadata": {},
     "output_type": "execute_result"
    }
   ],
   "source": [
    "df_new.shape"
   ]
  },
  {
   "cell_type": "code",
   "execution_count": 364,
   "metadata": {},
   "outputs": [
    {
     "data": {
      "text/plain": [
       "1    753\n",
       "0    753\n",
       "Name: fraud_reported, dtype: int64"
      ]
     },
     "execution_count": 364,
     "metadata": {},
     "output_type": "execute_result"
    }
   ],
   "source": [
    "df_new['fraud_reported'].value_counts()"
   ]
  },
  {
   "cell_type": "code",
   "execution_count": 365,
   "metadata": {},
   "outputs": [
    {
     "data": {
      "text/html": [
       "<div>\n",
       "<style scoped>\n",
       "    .dataframe tbody tr th:only-of-type {\n",
       "        vertical-align: middle;\n",
       "    }\n",
       "\n",
       "    .dataframe tbody tr th {\n",
       "        vertical-align: top;\n",
       "    }\n",
       "\n",
       "    .dataframe thead th {\n",
       "        text-align: right;\n",
       "    }\n",
       "</style>\n",
       "<table border=\"1\" class=\"dataframe\">\n",
       "  <thead>\n",
       "    <tr style=\"text-align: right;\">\n",
       "      <th></th>\n",
       "      <th>months_as_customer</th>\n",
       "      <th>age</th>\n",
       "      <th>policy_state</th>\n",
       "      <th>policy_csl</th>\n",
       "      <th>policy_deductable</th>\n",
       "      <th>policy_annual_premium</th>\n",
       "      <th>umbrella_limit</th>\n",
       "      <th>insured_zip</th>\n",
       "      <th>insured_sex</th>\n",
       "      <th>insured_education_level</th>\n",
       "      <th>...</th>\n",
       "      <th>vehicle_claim</th>\n",
       "      <th>auto_make</th>\n",
       "      <th>auto_model</th>\n",
       "      <th>auto_year</th>\n",
       "      <th>policy_bind_day</th>\n",
       "      <th>policy_bind_month</th>\n",
       "      <th>policy_bind_year</th>\n",
       "      <th>incident_day</th>\n",
       "      <th>incident_month</th>\n",
       "      <th>incident_year</th>\n",
       "    </tr>\n",
       "  </thead>\n",
       "  <tbody>\n",
       "    <tr>\n",
       "      <td>2</td>\n",
       "      <td>134</td>\n",
       "      <td>29</td>\n",
       "      <td>2</td>\n",
       "      <td>0</td>\n",
       "      <td>2000</td>\n",
       "      <td>1413.14</td>\n",
       "      <td>5000000</td>\n",
       "      <td>430632</td>\n",
       "      <td>0</td>\n",
       "      <td>6</td>\n",
       "      <td>...</td>\n",
       "      <td>23100</td>\n",
       "      <td>4</td>\n",
       "      <td>30</td>\n",
       "      <td>2007</td>\n",
       "      <td>6</td>\n",
       "      <td>9</td>\n",
       "      <td>2000</td>\n",
       "      <td>22</td>\n",
       "      <td>2</td>\n",
       "      <td>2015</td>\n",
       "    </tr>\n",
       "    <tr>\n",
       "      <td>4</td>\n",
       "      <td>228</td>\n",
       "      <td>44</td>\n",
       "      <td>0</td>\n",
       "      <td>2</td>\n",
       "      <td>1000</td>\n",
       "      <td>1583.91</td>\n",
       "      <td>6000000</td>\n",
       "      <td>610706</td>\n",
       "      <td>1</td>\n",
       "      <td>0</td>\n",
       "      <td>...</td>\n",
       "      <td>4550</td>\n",
       "      <td>0</td>\n",
       "      <td>31</td>\n",
       "      <td>2009</td>\n",
       "      <td>6</td>\n",
       "      <td>6</td>\n",
       "      <td>2014</td>\n",
       "      <td>17</td>\n",
       "      <td>2</td>\n",
       "      <td>2015</td>\n",
       "    </tr>\n",
       "    <tr>\n",
       "      <td>6</td>\n",
       "      <td>137</td>\n",
       "      <td>34</td>\n",
       "      <td>1</td>\n",
       "      <td>1</td>\n",
       "      <td>1000</td>\n",
       "      <td>1333.35</td>\n",
       "      <td>0</td>\n",
       "      <td>441716</td>\n",
       "      <td>1</td>\n",
       "      <td>6</td>\n",
       "      <td>...</td>\n",
       "      <td>50050</td>\n",
       "      <td>9</td>\n",
       "      <td>29</td>\n",
       "      <td>2012</td>\n",
       "      <td>4</td>\n",
       "      <td>6</td>\n",
       "      <td>2000</td>\n",
       "      <td>13</td>\n",
       "      <td>1</td>\n",
       "      <td>2015</td>\n",
       "    </tr>\n",
       "    <tr>\n",
       "      <td>7</td>\n",
       "      <td>165</td>\n",
       "      <td>37</td>\n",
       "      <td>0</td>\n",
       "      <td>0</td>\n",
       "      <td>1000</td>\n",
       "      <td>1137.03</td>\n",
       "      <td>0</td>\n",
       "      <td>603195</td>\n",
       "      <td>1</td>\n",
       "      <td>0</td>\n",
       "      <td>...</td>\n",
       "      <td>32830</td>\n",
       "      <td>1</td>\n",
       "      <td>5</td>\n",
       "      <td>2015</td>\n",
       "      <td>3</td>\n",
       "      <td>2</td>\n",
       "      <td>1990</td>\n",
       "      <td>27</td>\n",
       "      <td>2</td>\n",
       "      <td>2015</td>\n",
       "    </tr>\n",
       "    <tr>\n",
       "      <td>8</td>\n",
       "      <td>27</td>\n",
       "      <td>33</td>\n",
       "      <td>0</td>\n",
       "      <td>0</td>\n",
       "      <td>500</td>\n",
       "      <td>1442.99</td>\n",
       "      <td>0</td>\n",
       "      <td>601734</td>\n",
       "      <td>0</td>\n",
       "      <td>6</td>\n",
       "      <td>...</td>\n",
       "      <td>22160</td>\n",
       "      <td>12</td>\n",
       "      <td>9</td>\n",
       "      <td>2012</td>\n",
       "      <td>5</td>\n",
       "      <td>2</td>\n",
       "      <td>1997</td>\n",
       "      <td>30</td>\n",
       "      <td>1</td>\n",
       "      <td>2015</td>\n",
       "    </tr>\n",
       "  </tbody>\n",
       "</table>\n",
       "<p>5 rows × 40 columns</p>\n",
       "</div>"
      ],
      "text/plain": [
       "   months_as_customer  age  policy_state  policy_csl  policy_deductable  \\\n",
       "2                 134   29             2           0               2000   \n",
       "4                 228   44             0           2               1000   \n",
       "6                 137   34             1           1               1000   \n",
       "7                 165   37             0           0               1000   \n",
       "8                  27   33             0           0                500   \n",
       "\n",
       "   policy_annual_premium  umbrella_limit  insured_zip  insured_sex  \\\n",
       "2                1413.14         5000000       430632            0   \n",
       "4                1583.91         6000000       610706            1   \n",
       "6                1333.35               0       441716            1   \n",
       "7                1137.03               0       603195            1   \n",
       "8                1442.99               0       601734            0   \n",
       "\n",
       "   insured_education_level  ...  vehicle_claim  auto_make  auto_model  \\\n",
       "2                        6  ...          23100          4          30   \n",
       "4                        0  ...           4550          0          31   \n",
       "6                        6  ...          50050          9          29   \n",
       "7                        0  ...          32830          1           5   \n",
       "8                        6  ...          22160         12           9   \n",
       "\n",
       "   auto_year  policy_bind_day  policy_bind_month  policy_bind_year  \\\n",
       "2       2007                6                  9              2000   \n",
       "4       2009                6                  6              2014   \n",
       "6       2012                4                  6              2000   \n",
       "7       2015                3                  2              1990   \n",
       "8       2012                5                  2              1997   \n",
       "\n",
       "   incident_day  incident_month  incident_year  \n",
       "2            22               2           2015  \n",
       "4            17               2           2015  \n",
       "6            13               1           2015  \n",
       "7            27               2           2015  \n",
       "8            30               1           2015  \n",
       "\n",
       "[5 rows x 40 columns]"
      ]
     },
     "execution_count": 365,
     "metadata": {},
     "output_type": "execute_result"
    }
   ],
   "source": [
    "x=df_new.drop(['fraud_reported'],axis=1)\n",
    "x.head()\n"
   ]
  },
  {
   "cell_type": "code",
   "execution_count": 366,
   "metadata": {},
   "outputs": [],
   "source": [
    "from sklearn.preprocessing import StandardScaler\n",
    "ss=StandardScaler()\n",
    "x=ss.fit_transform(x)"
   ]
  },
  {
   "cell_type": "code",
   "execution_count": 367,
   "metadata": {},
   "outputs": [
    {
     "data": {
      "text/plain": [
       "2    0\n",
       "4    0\n",
       "6    0\n",
       "7    0\n",
       "8    0\n",
       "Name: fraud_reported, dtype: int32"
      ]
     },
     "execution_count": 367,
     "metadata": {},
     "output_type": "execute_result"
    }
   ],
   "source": [
    "y=df_new['fraud_reported']\n",
    "y.head()"
   ]
  },
  {
   "cell_type": "code",
   "execution_count": 368,
   "metadata": {},
   "outputs": [],
   "source": [
    "from sklearn.model_selection import train_test_split,cross_val_score\n",
    "from sklearn.neighbors import KNeighborsClassifier\n",
    "from sklearn.svm import SVC\n",
    "from sklearn.linear_model import LogisticRegression\n",
    "from sklearn.tree import DecisionTreeClassifier\n",
    "from sklearn.naive_bayes import GaussianNB\n",
    "from sklearn.ensemble import RandomForestClassifier,GradientBoostingClassifier,AdaBoostClassifier,ExtraTreesClassifier\n",
    "from sklearn.metrics import classification_report,confusion_matrix,accuracy_score,roc_curve,auc"
   ]
  },
  {
   "cell_type": "code",
   "execution_count": 369,
   "metadata": {},
   "outputs": [],
   "source": [
    "x_train,x_test,y_train,y_test=train_test_split(x,y,test_size=0.3,random_state=42,stratify=y)"
   ]
  },
  {
   "cell_type": "code",
   "execution_count": 370,
   "metadata": {},
   "outputs": [
    {
     "name": "stdout",
     "output_type": "stream",
     "text": [
      "(1054, 40) (452, 40)\n"
     ]
    }
   ],
   "source": [
    "print(x_train.shape,x_test.shape)"
   ]
  },
  {
   "cell_type": "code",
   "execution_count": 371,
   "metadata": {},
   "outputs": [
    {
     "name": "stdout",
     "output_type": "stream",
     "text": [
      "(1054,) (452,)\n"
     ]
    }
   ],
   "source": [
    "print(y_train.shape,y_test.shape)"
   ]
  },
  {
   "cell_type": "code",
   "execution_count": 372,
   "metadata": {},
   "outputs": [],
   "source": [
    "KNN=KNeighborsClassifier()\n",
    "SV=SVC()\n",
    "LR=LogisticRegression()\n",
    "DT=DecisionTreeClassifier(random_state=56)\n",
    "GNB=GaussianNB()\n",
    "RFC=RandomForestClassifier(n_estimators=200,random_state=56)\n",
    "GBC=GradientBoostingClassifier(n_estimators=200,random_state=56)\n",
    "ABC=AdaBoostClassifier(random_state=56)\n",
    "ETC=ExtraTreesClassifier(random_state=56)\n",
    "models = []\n",
    "models.append(('KNeighborsClassifier', KNN))\n",
    "models.append(('SVC', SV))\n",
    "models.append(('LogisticRegression', LR))\n",
    "models.append(('DecisionTreeClassifier', DT))\n",
    "models.append(('GaussianNB', GNB))\n",
    "models.append(('RandomForestClassifier', RFC))\n",
    "models.append(('GradientBoostingClassifier', GBC))\n",
    "models.append(('ExtraTreesClassifier',ETC))\n",
    "models.append(('AdaBoostClassifier',ABC))"
   ]
  },
  {
   "cell_type": "code",
   "execution_count": 373,
   "metadata": {},
   "outputs": [
    {
     "name": "stdout",
     "output_type": "stream",
     "text": [
      "*********************** KNeighborsClassifier ***********************\n",
      "\n",
      "\n",
      "KNeighborsClassifier(algorithm='auto', leaf_size=30, metric='minkowski',\n",
      "                     metric_params=None, n_jobs=None, n_neighbors=5, p=2,\n",
      "                     weights='uniform')\n",
      "\n",
      "\n",
      "Accuracy_score =  0.6858407079646017\n",
      "\n",
      "\n",
      "Cross_Val_Score =  0.7060087719298245\n",
      "\n",
      "\n",
      "roc_auc_score =  0.6858407079646018\n",
      "\n",
      "\n",
      "classification_report\n",
      "               precision    recall  f1-score   support\n",
      "\n",
      "           0       0.72      0.60      0.66       226\n",
      "           1       0.66      0.77      0.71       226\n",
      "\n",
      "    accuracy                           0.69       452\n",
      "   macro avg       0.69      0.69      0.68       452\n",
      "weighted avg       0.69      0.69      0.68       452\n",
      "\n",
      "\n",
      "\n",
      "[[136  90]\n",
      " [ 52 174]]\n",
      "\n",
      "\n",
      "*********************** SVC ***********************\n",
      "\n",
      "\n",
      "SVC(C=1.0, cache_size=200, class_weight=None, coef0=0.0,\n",
      "    decision_function_shape='ovr', degree=3, gamma='auto_deprecated',\n",
      "    kernel='rbf', max_iter=-1, probability=False, random_state=None,\n",
      "    shrinking=True, tol=0.001, verbose=False)\n",
      "\n",
      "\n",
      "Accuracy_score =  0.8429203539823009\n",
      "\n",
      "\n",
      "Cross_Val_Score =  0.8533421052631578\n",
      "\n",
      "\n",
      "roc_auc_score =  0.8429203539823009\n",
      "\n",
      "\n",
      "classification_report\n",
      "               precision    recall  f1-score   support\n",
      "\n",
      "           0       0.88      0.79      0.83       226\n",
      "           1       0.81      0.89      0.85       226\n",
      "\n",
      "    accuracy                           0.84       452\n",
      "   macro avg       0.85      0.84      0.84       452\n",
      "weighted avg       0.85      0.84      0.84       452\n",
      "\n",
      "\n",
      "\n",
      "[[179  47]\n",
      " [ 24 202]]\n",
      "\n",
      "\n",
      "*********************** LogisticRegression ***********************\n",
      "\n",
      "\n",
      "LogisticRegression(C=1.0, class_weight=None, dual=False, fit_intercept=True,\n",
      "                   intercept_scaling=1, l1_ratio=None, max_iter=100,\n",
      "                   multi_class='warn', n_jobs=None, penalty='l2',\n",
      "                   random_state=None, solver='warn', tol=0.0001, verbose=0,\n",
      "                   warm_start=False)\n",
      "\n",
      "\n",
      "Accuracy_score =  0.7168141592920354\n",
      "\n",
      "\n",
      "Cross_Val_Score =  0.7244824561403509\n",
      "\n",
      "\n",
      "roc_auc_score =  0.7168141592920353\n",
      "\n",
      "\n",
      "classification_report\n",
      "               precision    recall  f1-score   support\n",
      "\n",
      "           0       0.72      0.70      0.71       226\n",
      "           1       0.71      0.73      0.72       226\n",
      "\n",
      "    accuracy                           0.72       452\n",
      "   macro avg       0.72      0.72      0.72       452\n",
      "weighted avg       0.72      0.72      0.72       452\n",
      "\n",
      "\n",
      "\n",
      "[[159  67]\n",
      " [ 61 165]]\n",
      "\n",
      "\n",
      "*********************** DecisionTreeClassifier ***********************\n",
      "\n",
      "\n",
      "DecisionTreeClassifier(class_weight=None, criterion='gini', max_depth=None,\n",
      "                       max_features=None, max_leaf_nodes=None,\n",
      "                       min_impurity_decrease=0.0, min_impurity_split=None,\n",
      "                       min_samples_leaf=1, min_samples_split=2,\n",
      "                       min_weight_fraction_leaf=0.0, presort=False,\n",
      "                       random_state=56, splitter='best')\n",
      "\n",
      "\n",
      "Accuracy_score =  0.918141592920354\n",
      "\n",
      "\n",
      "Cross_Val_Score =  0.9103508771929825\n",
      "\n",
      "\n",
      "roc_auc_score =  0.9181415929203539\n",
      "\n",
      "\n",
      "classification_report\n",
      "               precision    recall  f1-score   support\n",
      "\n",
      "           0       0.96      0.87      0.91       226\n",
      "           1       0.88      0.96      0.92       226\n",
      "\n",
      "    accuracy                           0.92       452\n",
      "   macro avg       0.92      0.92      0.92       452\n",
      "weighted avg       0.92      0.92      0.92       452\n",
      "\n",
      "\n",
      "\n",
      "[[197  29]\n",
      " [  8 218]]\n",
      "\n",
      "\n",
      "*********************** GaussianNB ***********************\n",
      "\n",
      "\n",
      "GaussianNB(priors=None, var_smoothing=1e-09)\n",
      "\n",
      "\n",
      "Accuracy_score =  0.7146017699115044\n",
      "\n",
      "\n",
      "Cross_Val_Score =  0.6952807017543859\n",
      "\n",
      "\n",
      "roc_auc_score =  0.7146017699115044\n",
      "\n",
      "\n",
      "classification_report\n",
      "               precision    recall  f1-score   support\n",
      "\n",
      "           0       0.80      0.58      0.67       226\n",
      "           1       0.67      0.85      0.75       226\n",
      "\n",
      "    accuracy                           0.71       452\n",
      "   macro avg       0.73      0.71      0.71       452\n",
      "weighted avg       0.73      0.71      0.71       452\n",
      "\n",
      "\n",
      "\n",
      "[[130  96]\n",
      " [ 33 193]]\n",
      "\n",
      "\n",
      "*********************** RandomForestClassifier ***********************\n",
      "\n",
      "\n",
      "RandomForestClassifier(bootstrap=True, class_weight=None, criterion='gini',\n",
      "                       max_depth=None, max_features='auto', max_leaf_nodes=None,\n",
      "                       min_impurity_decrease=0.0, min_impurity_split=None,\n",
      "                       min_samples_leaf=1, min_samples_split=2,\n",
      "                       min_weight_fraction_leaf=0.0, n_estimators=200,\n",
      "                       n_jobs=None, oob_score=False, random_state=56, verbose=0,\n",
      "                       warm_start=False)\n",
      "\n",
      "\n",
      "Accuracy_score =  0.9203539823008849\n",
      "\n",
      "\n",
      "Cross_Val_Score =  0.924359649122807\n",
      "\n",
      "\n",
      "roc_auc_score =  0.920353982300885\n",
      "\n",
      "\n",
      "classification_report\n",
      "               precision    recall  f1-score   support\n",
      "\n",
      "           0       0.96      0.88      0.92       226\n",
      "           1       0.89      0.96      0.92       226\n",
      "\n",
      "    accuracy                           0.92       452\n",
      "   macro avg       0.92      0.92      0.92       452\n",
      "weighted avg       0.92      0.92      0.92       452\n",
      "\n",
      "\n",
      "\n",
      "[[198  28]\n",
      " [  8 218]]\n",
      "\n",
      "\n",
      "*********************** GradientBoostingClassifier ***********************\n",
      "\n",
      "\n",
      "GradientBoostingClassifier(criterion='friedman_mse', init=None,\n",
      "                           learning_rate=0.1, loss='deviance', max_depth=3,\n",
      "                           max_features=None, max_leaf_nodes=None,\n",
      "                           min_impurity_decrease=0.0, min_impurity_split=None,\n",
      "                           min_samples_leaf=1, min_samples_split=2,\n",
      "                           min_weight_fraction_leaf=0.0, n_estimators=200,\n",
      "                           n_iter_no_change=None, presort='auto',\n",
      "                           random_state=56, subsample=1.0, tol=0.0001,\n",
      "                           validation_fraction=0.1, verbose=0,\n",
      "                           warm_start=False)\n",
      "\n",
      "\n",
      "Accuracy_score =  0.911504424778761\n",
      "\n",
      "\n",
      "Cross_Val_Score =  0.9263245614035089\n",
      "\n",
      "\n",
      "roc_auc_score =  0.9115044247787611\n",
      "\n",
      "\n",
      "classification_report\n",
      "               precision    recall  f1-score   support\n",
      "\n",
      "           0       0.95      0.87      0.91       226\n",
      "           1       0.88      0.96      0.92       226\n",
      "\n",
      "    accuracy                           0.91       452\n",
      "   macro avg       0.91      0.91      0.91       452\n",
      "weighted avg       0.91      0.91      0.91       452\n",
      "\n",
      "\n",
      "\n",
      "[[196  30]\n",
      " [ 10 216]]\n",
      "\n",
      "\n",
      "*********************** ExtraTreesClassifier ***********************\n",
      "\n",
      "\n",
      "ExtraTreesClassifier(bootstrap=False, class_weight=None, criterion='gini',\n",
      "                     max_depth=None, max_features='auto', max_leaf_nodes=None,\n",
      "                     min_impurity_decrease=0.0, min_impurity_split=None,\n",
      "                     min_samples_leaf=1, min_samples_split=2,\n",
      "                     min_weight_fraction_leaf=0.0, n_estimators=10, n_jobs=None,\n",
      "                     oob_score=False, random_state=56, verbose=0,\n",
      "                     warm_start=False)\n",
      "\n",
      "\n",
      "Accuracy_score =  0.9247787610619469\n",
      "\n",
      "\n",
      "Cross_Val_Score =  0.9482017543859648\n",
      "\n",
      "\n",
      "roc_auc_score =  0.9247787610619469\n",
      "\n",
      "\n",
      "classification_report\n",
      "               precision    recall  f1-score   support\n",
      "\n",
      "           0       0.92      0.93      0.93       226\n",
      "           1       0.93      0.92      0.92       226\n",
      "\n",
      "    accuracy                           0.92       452\n",
      "   macro avg       0.92      0.92      0.92       452\n",
      "weighted avg       0.92      0.92      0.92       452\n",
      "\n",
      "\n",
      "\n",
      "[[211  15]\n",
      " [ 19 207]]\n",
      "\n",
      "\n",
      "*********************** AdaBoostClassifier ***********************\n",
      "\n",
      "\n",
      "AdaBoostClassifier(algorithm='SAMME.R', base_estimator=None, learning_rate=1.0,\n",
      "                   n_estimators=50, random_state=56)\n",
      "\n",
      "\n",
      "Accuracy_score =  0.8584070796460177\n",
      "\n",
      "\n",
      "Cross_Val_Score =  0.8380701754385965\n",
      "\n",
      "\n",
      "roc_auc_score =  0.8584070796460178\n",
      "\n",
      "\n",
      "classification_report\n",
      "               precision    recall  f1-score   support\n",
      "\n",
      "           0       0.87      0.85      0.86       226\n",
      "           1       0.85      0.87      0.86       226\n",
      "\n",
      "    accuracy                           0.86       452\n",
      "   macro avg       0.86      0.86      0.86       452\n",
      "weighted avg       0.86      0.86      0.86       452\n",
      "\n",
      "\n",
      "\n",
      "[[191  35]\n",
      " [ 29 197]]\n",
      "\n",
      "\n"
     ]
    }
   ],
   "source": [
    "Model = []\n",
    "score = []\n",
    "cvs=[]\n",
    "rocscore=[]\n",
    "for name,model in models:\n",
    "    print('***********************',name,'***********************')\n",
    "    print('\\n')\n",
    "    Model.append(name)\n",
    "    model.fit(x_train,y_train)\n",
    "    print(model)\n",
    "    pre=model.predict(x_test)\n",
    "    print('\\n')\n",
    "    AS=accuracy_score(y_test,pre)\n",
    "    print('Accuracy_score = ',AS)\n",
    "    score.append(AS*100)\n",
    "    print('\\n')\n",
    "    sc = cross_val_score(model, x, y, cv=10, scoring='accuracy').mean()\n",
    "    print('Cross_Val_Score = ',sc)\n",
    "    cvs.append(sc*100)\n",
    "    print('\\n')\n",
    "    false_positive_rate, true_positive_rate, thresholds = roc_curve(y_test,pre)\n",
    "    roc_auc = auc(false_positive_rate, true_positive_rate)\n",
    "    print ('roc_auc_score = ',roc_auc)\n",
    "    rocscore.append(roc_auc*100)\n",
    "    print('\\n')\n",
    "    print('classification_report\\n',classification_report(y_test,pre))\n",
    "    print('\\n')\n",
    "    cm=confusion_matrix(y_test,pre)\n",
    "    print(cm)\n",
    "    print('\\n')"
   ]
  },
  {
   "cell_type": "code",
   "execution_count": 374,
   "metadata": {},
   "outputs": [
    {
     "data": {
      "text/html": [
       "<div>\n",
       "<style scoped>\n",
       "    .dataframe tbody tr th:only-of-type {\n",
       "        vertical-align: middle;\n",
       "    }\n",
       "\n",
       "    .dataframe tbody tr th {\n",
       "        vertical-align: top;\n",
       "    }\n",
       "\n",
       "    .dataframe thead th {\n",
       "        text-align: right;\n",
       "    }\n",
       "</style>\n",
       "<table border=\"1\" class=\"dataframe\">\n",
       "  <thead>\n",
       "    <tr style=\"text-align: right;\">\n",
       "      <th></th>\n",
       "      <th>Model</th>\n",
       "      <th>Accuracy_score</th>\n",
       "      <th>Cross_val_score</th>\n",
       "      <th>Roc_auc_curve</th>\n",
       "    </tr>\n",
       "  </thead>\n",
       "  <tbody>\n",
       "    <tr>\n",
       "      <td>0</td>\n",
       "      <td>KNeighborsClassifier</td>\n",
       "      <td>68.584071</td>\n",
       "      <td>70.600877</td>\n",
       "      <td>68.584071</td>\n",
       "    </tr>\n",
       "    <tr>\n",
       "      <td>1</td>\n",
       "      <td>SVC</td>\n",
       "      <td>84.292035</td>\n",
       "      <td>85.334211</td>\n",
       "      <td>84.292035</td>\n",
       "    </tr>\n",
       "    <tr>\n",
       "      <td>2</td>\n",
       "      <td>LogisticRegression</td>\n",
       "      <td>71.681416</td>\n",
       "      <td>72.448246</td>\n",
       "      <td>71.681416</td>\n",
       "    </tr>\n",
       "    <tr>\n",
       "      <td>3</td>\n",
       "      <td>DecisionTreeClassifier</td>\n",
       "      <td>91.814159</td>\n",
       "      <td>91.035088</td>\n",
       "      <td>91.814159</td>\n",
       "    </tr>\n",
       "    <tr>\n",
       "      <td>4</td>\n",
       "      <td>GaussianNB</td>\n",
       "      <td>71.460177</td>\n",
       "      <td>69.528070</td>\n",
       "      <td>71.460177</td>\n",
       "    </tr>\n",
       "    <tr>\n",
       "      <td>5</td>\n",
       "      <td>RandomForestClassifier</td>\n",
       "      <td>92.035398</td>\n",
       "      <td>92.435965</td>\n",
       "      <td>92.035398</td>\n",
       "    </tr>\n",
       "    <tr>\n",
       "      <td>6</td>\n",
       "      <td>GradientBoostingClassifier</td>\n",
       "      <td>91.150442</td>\n",
       "      <td>92.632456</td>\n",
       "      <td>91.150442</td>\n",
       "    </tr>\n",
       "    <tr>\n",
       "      <td>7</td>\n",
       "      <td>ExtraTreesClassifier</td>\n",
       "      <td>92.477876</td>\n",
       "      <td>94.820175</td>\n",
       "      <td>92.477876</td>\n",
       "    </tr>\n",
       "    <tr>\n",
       "      <td>8</td>\n",
       "      <td>AdaBoostClassifier</td>\n",
       "      <td>85.840708</td>\n",
       "      <td>83.807018</td>\n",
       "      <td>85.840708</td>\n",
       "    </tr>\n",
       "  </tbody>\n",
       "</table>\n",
       "</div>"
      ],
      "text/plain": [
       "                        Model  Accuracy_score  Cross_val_score  Roc_auc_curve\n",
       "0        KNeighborsClassifier       68.584071        70.600877      68.584071\n",
       "1                         SVC       84.292035        85.334211      84.292035\n",
       "2          LogisticRegression       71.681416        72.448246      71.681416\n",
       "3      DecisionTreeClassifier       91.814159        91.035088      91.814159\n",
       "4                  GaussianNB       71.460177        69.528070      71.460177\n",
       "5      RandomForestClassifier       92.035398        92.435965      92.035398\n",
       "6  GradientBoostingClassifier       91.150442        92.632456      91.150442\n",
       "7        ExtraTreesClassifier       92.477876        94.820175      92.477876\n",
       "8          AdaBoostClassifier       85.840708        83.807018      85.840708"
      ]
     },
     "execution_count": 374,
     "metadata": {},
     "output_type": "execute_result"
    }
   ],
   "source": [
    "result = pd.DataFrame({'Model': Model, 'Accuracy_score': score ,'Cross_val_score':cvs,'Roc_auc_curve':rocscore})\n",
    "result"
   ]
  },
  {
   "cell_type": "code",
   "execution_count": 375,
   "metadata": {},
   "outputs": [
    {
     "data": {
      "text/plain": [
       "['model_Insurance_fraud.csv']"
      ]
     },
     "execution_count": 375,
     "metadata": {},
     "output_type": "execute_result"
    }
   ],
   "source": [
    "from sklearn.externals import joblib\n",
    "joblib.dump(ETC,\"model_Insurance_fraud.csv\")"
   ]
  },
  {
   "cell_type": "code",
   "execution_count": 376,
   "metadata": {},
   "outputs": [
    {
     "data": {
      "text/plain": [
       "array([1, 0, 1, 1, 0, 1, 1, 0, 1, 0, 0, 0, 0, 0, 1, 0, 1, 1, 0, 1, 0, 1,\n",
       "       1, 0, 0, 0, 1, 0, 0, 0, 1, 0, 1, 0, 0, 1, 1, 1, 1, 1, 0, 1, 1, 1,\n",
       "       0, 1, 1, 1, 1, 0, 0, 0, 0, 1, 0, 1, 1, 0, 1, 1, 1, 0, 1, 1, 0, 1,\n",
       "       0, 0, 1, 0, 0, 0, 1, 0, 1, 0, 1, 0, 0, 1, 0, 0, 1, 0, 1, 0, 0, 1,\n",
       "       0, 1, 1, 0, 0, 0, 0, 1, 0, 1, 1, 0, 1, 1, 1, 1, 0, 0, 1, 0, 1, 0,\n",
       "       0, 0, 1, 1, 1, 0, 0, 0, 1, 1, 0, 0, 1, 1, 1, 1, 0, 0, 1, 1, 1, 1,\n",
       "       0, 0, 0, 0, 0, 0, 1, 1, 0, 0, 1, 1, 1, 0, 1, 0, 0, 1, 1, 0, 1, 0,\n",
       "       1, 1, 0, 0, 0, 1, 0, 1, 0, 1, 1, 0, 0, 0, 1, 0, 0, 0, 0, 1, 0, 1,\n",
       "       0, 0, 0, 0, 1, 1, 0, 0, 1, 0, 1, 0, 1, 1, 0, 1, 0, 0, 0, 0, 0, 0,\n",
       "       1, 0, 0, 0, 1, 1, 1, 0, 0, 1, 0, 0, 1, 1, 0, 1, 0, 0, 1, 1, 1, 1,\n",
       "       0, 1, 0, 0, 1, 0, 1, 1, 0, 0, 0, 0, 1, 1, 1, 1, 1, 1, 0, 0, 1, 1,\n",
       "       0, 1, 1, 1, 1, 1, 0, 1, 0, 1, 0, 1, 0, 1, 1, 0, 1, 0, 1, 0, 0, 1,\n",
       "       1, 0, 0, 0, 1, 1, 1, 1, 1, 1, 1, 1, 1, 0, 0, 0, 0, 0, 1, 1, 1, 1,\n",
       "       0, 1, 1, 0, 0, 1, 1, 1, 0, 0, 1, 1, 0, 1, 0, 1, 0, 1, 0, 1, 1, 1,\n",
       "       1, 0, 0, 0, 1, 0, 0, 1, 1, 1, 0, 0, 1, 1, 0, 0, 0, 1, 1, 1, 0, 1,\n",
       "       0, 0, 0, 0, 1, 1, 0, 1, 1, 1, 0, 1, 1, 0, 0, 0, 0, 1, 1, 0, 0, 1,\n",
       "       0, 0, 1, 1, 1, 0, 1, 0, 1, 1, 1, 0, 0, 0, 0, 1, 0, 0, 1, 0, 0, 0,\n",
       "       0, 0, 0, 0, 1, 0, 1, 1, 0, 0, 0, 0, 1, 1, 1, 0, 1, 1, 1, 1, 0, 1,\n",
       "       0, 1, 1, 0, 0, 0, 0, 1, 0, 0, 1, 0, 1, 1, 0, 1, 0, 1, 0, 0, 0, 0,\n",
       "       0, 0, 1, 0, 1, 0, 1, 0, 0, 1, 0, 0, 0, 0, 0, 1, 1, 1, 1, 0, 1, 1,\n",
       "       0, 0, 1, 0, 0, 1, 0, 0, 1, 1, 1, 1])"
      ]
     },
     "execution_count": 376,
     "metadata": {},
     "output_type": "execute_result"
    }
   ],
   "source": [
    "model=joblib.load(\"model_Insurance_fraud.csv\")\n",
    "model.predict(x_test)"
   ]
  },
  {
   "cell_type": "code",
   "execution_count": null,
   "metadata": {},
   "outputs": [],
   "source": []
  }
 ],
 "metadata": {
  "kernelspec": {
   "display_name": "Python 3",
   "language": "python",
   "name": "python3"
  },
  "language_info": {
   "codemirror_mode": {
    "name": "ipython",
    "version": 3
   },
   "file_extension": ".py",
   "mimetype": "text/x-python",
   "name": "python",
   "nbconvert_exporter": "python",
   "pygments_lexer": "ipython3",
   "version": "3.7.4"
  }
 },
 "nbformat": 4,
 "nbformat_minor": 2
}
